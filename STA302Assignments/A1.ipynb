{
 "cells": [
  {
   "cell_type": "markdown",
   "metadata": {},
   "source": [
    "##     STA302 A1\n",
    "\n",
    "Haoda Li"
   ]
  },
  {
   "cell_type": "code",
   "execution_count": 1,
   "metadata": {},
   "outputs": [],
   "source": [
    "# import data\n",
    "data <- read.csv(\"A1.csv\", sep = \";\", skip=0)\n",
    "x <- data[[3]]\n",
    "y <- data[[5]]"
   ]
  },
  {
   "cell_type": "markdown",
   "metadata": {},
   "source": [
    "### Q1"
   ]
  },
  {
   "cell_type": "code",
   "execution_count": 2,
   "metadata": {},
   "outputs": [
    {
     "data": {
      "image/png": "[encoded data removed]",
      "text/plain": [
       "Plot with title \"Q1\""
      ]
     },
     "metadata": {},
     "output_type": "display_data"
    }
   ],
   "source": [
    "# x is 2013 Expenses, y is 2015 Exprenses\n",
    "# plot the data points and draw the fitted line\n",
    "plot(x,y, xlab = \"2013 Expenses\", ylab = \"2015 Expenses\", main = \"Q1\")\n",
    "fit <- lm(y~x)\n",
    "abline(fit)"
   ]
  },
  {
   "cell_type": "markdown",
   "metadata": {},
   "source": [
    "### Q2"
   ]
  },
  {
   "cell_type": "code",
   "execution_count": 12,
   "metadata": {
    "code_folding": []
   },
   "outputs": [
    {
     "data": {
      "text/plain": [
       "\n",
       "Call:\n",
       "lm(formula = y ~ x)\n",
       "\n",
       "Residuals:\n",
       "   Min     1Q Median     3Q    Max \n",
       "-10379  -3640   1050   3633  15370 \n",
       "\n",
       "Coefficients:\n",
       "             Estimate Std. Error t value Pr(>|t|)    \n",
       "(Intercept) 5855.1183  2334.5168   2.508   0.0161 *  \n",
       "x              0.6841     0.1067   6.410 1.02e-07 ***\n",
       "---\n",
       "Signif. codes:  0 '***' 0.001 '**' 0.01 '*' 0.05 '.' 0.1 ' ' 1\n",
       "\n",
       "Residual standard error: 5286 on 42 degrees of freedom\n",
       "Multiple R-squared:  0.4945,\tAdjusted R-squared:  0.4825 \n",
       "F-statistic: 41.09 on 1 and 42 DF,  p-value: 1.02e-07\n"
      ]
     },
     "metadata": {},
     "output_type": "display_data"
    },
    {
     "data": {
      "text/html": [
       "5285.64606338154"
      ],
      "text/latex": [
       "5285.64606338154"
      ],
      "text/markdown": [
       "5285.64606338154"
      ],
      "text/plain": [
       "[1] 5285.646"
      ]
     },
     "metadata": {},
     "output_type": "display_data"
    }
   ],
   "source": [
    "# fit is the fitted line obtained in Q1\n",
    "summary(fit)\n",
    "\n",
    "(sum((y-(0.6841*x+5855.1183))**2)/42)**0.5"
   ]
  },
  {
   "cell_type": "markdown",
   "metadata": {},
   "source": [
    "The equation of the line of best fit is\n",
    "$\\: \\hat{y} = 5855+ 0.6841x$\n",
    "\n",
    "Hypothesis tests for $\\beta_0$: <br>\n",
    "$H_0: \\beta_0=5855$ <br>\n",
    "Since the p-value is 0.0161, we can reject $H_0$, it is statistically significant. <br><br>\n",
    "\n",
    "Hypothesis tests for $\\beta_1$: <br>\n",
    "$H_0: \\beta_1=0.6841$ <br>\n",
    "Since the p-value is $1.02\\times 10^{-7}$, we can reject $H_1$, it is statistically significant. <br><br>\n",
    "\n"
   ]
  },
  {
   "cell_type": "code",
   "execution_count": 4,
   "metadata": {},
   "outputs": [
    {
     "data": {
      "text/html": [
       "<strong>x:</strong> 0.935658207495296"
      ],
      "text/latex": [
       "\\textbf{x:} 0.935658207495296"
      ],
      "text/markdown": [
       "**x:** 0.935658207495296"
      ],
      "text/plain": [
       "        x \n",
       "0.9356582 "
      ]
     },
     "metadata": {},
     "output_type": "display_data"
    }
   ],
   "source": [
    "# fit the data into a new model given beta0 = 0\n",
    "# x is 2013 Expenses, y is 2015 Exprenses\n",
    "fit2 <- lm(y~-1+x)\n",
    "coef(fit2)"
   ]
  },
  {
   "cell_type": "markdown",
   "metadata": {},
   "source": [
    "### Q3\n",
    "We make the hypothesis that the expenses changed only because the inflation and zero-mean normally distributed noise, which:\n",
    "$$ H_0: \\beta_1 = 1.017^2 = 1.034$$\n",
    "\n",
    "Consider the confidence interval for $\\beta_1$, since we have known $\\beta_0 = 0$, the equation becomes $y_i = \\beta_1 x_i$\n",
    "$$E(\\hat{\\beta}_1) = E(\\frac{\\sum x_iY_i}{\\sum x_i^2}) =\\frac{\\sum x_iE(Y_i)}{\\sum x_i^2}= \\frac{\\sum x_i(\\beta_1 x_i)}{\\sum x_i^2} =\\beta_1$$\n",
    "$$var(\\hat{\\beta}_1) = var(\\frac{\\sum x_iY_i}{\\sum x_i^2})=\\frac{\\sum x_i^2 var(Y_i)}{(\\sum x_i^2)^2} = \\frac{\\sum x_i^2}{(\\sum x_i^2)^2}\\sigma^2 = \\frac{\\sigma^2}{\\sum x_i^2}$$\n",
    "Replace $\\sigma$ with $S$, then $se(\\hat\\beta_1) = \\frac{S}{\\sum x_i^2}$. Also, since we know the value of $\\beta_0$, the degree freedom will be $n-1$ instead of $n-2$, therefore the CI is\n",
    "$$CI = (\\hat\\beta_1 - t(0.975, n-1)se(\\hat\\beta_1), \\hat\\beta_1 + t(0.975, n-1)se(\\hat\\beta_1))$$\n",
    "Known $\\hat{\\beta}_1 = 0.9357, n = 44, S = 5601$ from the summary above. <br>\n",
    "The CI is $(0.8578, 1.014)$. (calculation shown below) <br>\n",
    "Since 1.034 does not fall into the interval, we reject the hypothesis, which the expenses changed not only because the inflation and zero-mean normally distributed noise. "
   ]
  },
  {
   "cell_type": "code",
   "execution_count": 5,
   "metadata": {},
   "outputs": [
    {
     "name": "stdout",
     "output_type": "stream",
     "text": [
      "[1] 0.8578036\n",
      "[1] 1.013596\n"
     ]
    },
    {
     "data": {
      "text/html": [
       "<table>\n",
       "<thead><tr><th></th><th scope=col>2.5 %</th><th scope=col>97.5 %</th></tr></thead>\n",
       "<tbody>\n",
       "\t<tr><th scope=row>x</th><td>0.8578103</td><td>1.013506 </td></tr>\n",
       "</tbody>\n",
       "</table>\n"
      ],
      "text/latex": [
       "\\begin{tabular}{r|ll}\n",
       "  & 2.5 \\% & 97.5 \\%\\\\\n",
       "\\hline\n",
       "\tx & 0.8578103 & 1.013506 \\\\\n",
       "\\end{tabular}\n"
      ],
      "text/markdown": [
       "\n",
       "| <!--/--> | 2.5 % | 97.5 % | \n",
       "|---|\n",
       "| x | 0.8578103 | 1.013506  | \n",
       "\n",
       "\n"
      ],
      "text/plain": [
       "  2.5 %     97.5 %  \n",
       "x 0.8578103 1.013506"
      ]
     },
     "metadata": {},
     "output_type": "display_data"
    }
   ],
   "source": [
    "# calculate se(beta1)\n",
    "se <- 5601 / sqrt(sum(x^2))\n",
    "# calculate t quantile\n",
    "t <- qt(0.975, 42)\n",
    "print(0.9357 - se*t)\n",
    "print(0.9357 + se*t)\n",
    "\n",
    "# alternatively we can use confint:)\n",
    "confint(fit2)"
   ]
  },
  {
   "cell_type": "markdown",
   "metadata": {},
   "source": [
    "### Q4\n",
    "Let $$ T = \\frac{Y^*-\\hat{y}^*}{S\\sqrt{1+1/n+(x^*-\\bar{x})^2/S_{XX}}}, T\\sim t_{n-2}$$\n",
    "Let $Y^*=35000, y^* = B_0+B_1x^* = 5855 + 0.6841 \\times 18986.47, n = 44$, and $S, S_{XX}$ is calculated according to the dataset.(calculation shown below).\n",
    "$$P(Y^* > 35000) = 1 - P(T < 3.02) = 0.002139$$"
   ]
  },
  {
   "cell_type": "code",
   "execution_count": 6,
   "metadata": {},
   "outputs": [
    {
     "name": "stdout",
     "output_type": "stream",
     "text": [
      "[1] 3.020798\n",
      "[1] 0.002139514\n"
     ]
    }
   ],
   "source": [
    "# calculate nominator\n",
    "top <- 35000 - (5855 + 0.6841*18986.47)\n",
    "# calculate Sxx\n",
    "Sxx <- sum((x-mean(x))^2)\n",
    "# calculate denominator\n",
    "bot <- 5286 * ((45/44 + ((18986.47 - mean(x))^2) / Sxx)^0.5)\n",
    "print(top/bot)\n",
    "print(1 - pt(top/bot, 42))"
   ]
  },
  {
   "cell_type": "markdown",
   "metadata": {},
   "source": [
    "### Q5"
   ]
  },
  {
   "cell_type": "markdown",
   "metadata": {},
   "source": [
    "It's more likely to increase, when 19 data points are eliminated, $\\hat{y}^*, \\hat{x}$ remains unchanged. Since the data points are removed arbitrarily, $B_0, B_1, S, \\bar{x}$ will only have minor changes.However, since $n$ decreases by 19, and $S_{XX} = \\sum_{i=1}^n (x_i-\\bar{x})^2$ decreases. Therefore, the denominator of $T$ increases, hence $T$ decreases, and the probability increases. "
   ]
  }
 ],
 "metadata": {
  "kernelspec": {
   "display_name": "R",
   "language": "R",
   "name": "ir"
  },
  "language_info": {
   "codemirror_mode": "r",
   "file_extension": ".r",
   "mimetype": "text/x-r-source",
   "name": "R",
   "pygments_lexer": "r",
   "version": "3.5.1"
  }
 },
 "nbformat": 4,
 "nbformat_minor": 2
}
