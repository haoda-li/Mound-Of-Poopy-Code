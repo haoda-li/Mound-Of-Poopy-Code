{
 "cells": [
  {
   "cell_type": "markdown",
   "metadata": {},
   "source": [
    "# JSC270S - Tutorial \\#0 : 'Hello JSC270' \n",
    "\n",
    "## Date: January 7, 2019\n",
    "## Time: 12:00 - 14:00\n",
    "## Location: BA 3175\n",
    "\n",
    "\n",
    "\n",
    "***\n",
    "## Tutorial objectives\n",
    "The goal of this tutorial is to introduce you to some of the computing resources essential for JSC270, and to refresh your memory with a few simple exercises. We will cover the following in this welcome tutorial: \n",
    "* Create a jupyter notebook\n",
    "* Simulate data with numpy (normal and mixture distributions)\n",
    "* Compute basic statistics with scipy\n",
    "* Plot data with [`matplotlib`](https://matplotlib.org), and with [`pandas`](https://pandas.pydata.org)\n",
    "* Use different pandas data structures (dataframe, dictionnary)\n",
    "* Install a python library with [`pip`](https://pip.pypa.io/en/stable/)\n",
    "* Use the [twitter API](https://developer.twitter.com/en/docs.html) to collect data\n",
    "\n",
    "<br>\n",
    "\n",
    "****\n",
    "## Instructions\n",
    "\n",
    "Answer the questions in this notebook, by adding new cells after the question.\n",
    "\n",
    "## Tutorial Grading (**NB: This tutorial will not be graded**)\n",
    "\n",
    "Tutorials will be graded according to the following marking scheme.\n",
    "\n",
    "<table>\n",
    "  <tr>\n",
    "    <th></th>\n",
    "    <th>Marks</th>\n",
    "  </tr>\n",
    "  <tr>\n",
    "    <td>Tutorial Participation</td>\n",
    "    <td>5</td>\n",
    "  </tr>\n",
    "  <tr>\n",
    "    <td>Attendance for entire tutorial</td>\n",
    "    <td>5</td>\n",
    "  </tr>\n",
    "  <tr>\n",
    "    <td>In-lab tutorial assignment</td>\n",
    "    <td>20</td>\n",
    "  </tr>\n",
    "  <tr>\n",
    "    <td>Tutorial assignment completion</td>\n",
    "    <td>20</td>\n",
    "  </tr>\n",
    "</table>\n",
    "\n",
    "\n",
    "### Grading Rubric for Tutorial Assignments\n",
    "\n",
    "Although, this tutorial will NOT be graded you should familiarize yourself with the [tutorial grading rubric](https://jsc270.github.io/tut_docs.html#tutorial_grading).\n",
    "\n"
   ]
  },
  {
   "cell_type": "markdown",
   "metadata": {},
   "source": [
    "***\n",
    "## Tutorial Requirements\n",
    "\n",
    "\n",
    "This tutorial will not be graded. However, we included instructions for a mock submission, in order to familiarize yourself with the mechanics of subsequent graded tutorials. We encourage you to go through the following steps to make sure that you are fully ready for the term. \n",
    "\n",
    "### What should be submitted?\n",
    "\n",
    "- A *Jupyter notebook* using Python that contains all the data analyses. The flow of the notebook should be Markdown and Code cells weaved together.  In addition make sure to comment your code in the code cells.\n",
    "\n",
    "- Additional files that your notebook requires to compile properly (e.g. a data file).\n",
    "\n",
    "- A report from your Jupyter notebook exported as a pdf file without the code cells.  This can be done using [`nbconvert`](https://nbconvert.readthedocs.io/en/latest/install.html).\n",
    "\n",
    "\n",
    "### When should it be submitted?\n",
    "\n",
    "*This tutorial will not be graded, but all other tutorials will consist of a 2-steps submission as follows:*\n",
    "\n",
    "- **At the end of the tutorial (in-lab tutorial assignment)**: Submit your current progress, i.e., before 2:30pm on the day of the tutorial, January 7.\n",
    "    \n",
    "- **Homework (tutorial assignment completion)**: Upload your completed tutorial by 11:30am on the Monday following the tutorial, on January 14.\n",
    "\n",
    "### Where should the assignment be submitted?\n",
    "\n",
    "Commit your finished notebook and any other files on Github, through the following link: <https://classroom.github.com/a/nPZJBcqW>\n",
    "\n",
    "\n",
    "### How will it be graded?\n",
    "\n",
    "This tutorial does not count toward your final grades. \n"
   ]
  },
  {
   "cell_type": "code",
   "execution_count": 4,
   "metadata": {},
   "outputs": [
    {
     "name": "stdout",
     "output_type": "stream",
     "text": [
      "J\n",
      "S\n",
      "C\n",
      "2\n",
      "7\n",
      "0\n"
     ]
    }
   ],
   "source": [
    "# this is a python cell\n",
    "\n",
    "for x in \"JSC270\":\n",
    "    print(x)"
   ]
  },
  {
   "cell_type": "markdown",
   "metadata": {},
   "source": [
    "This is an an example of a markdown cell.  Double-click on the cell to see the [markdown](https://jupyter-notebook.readthedocs.io/en/stable/examples/Notebook/Working%20With%20Markdown%20Cells.html).\n",
    "\n",
    "# Header 1\n",
    "## Header 2\n",
    "\n",
    "Some in line $\\LaTeX$:  $\\alpha = 0.05, \\beta = 0.2 \\Rightarrow \\alpha+\\beta=0.25.$  If $\\LaTeX$  is enclosed between `$$` \\int_{-\\infty}^{\\infty} \\exp({-x^2/2})dx = \\sqrt{2 \\pi} `$$` then it's displayed on it's own line.\n",
    "\n",
    "$$ \\int_{-\\infty}^{\\infty} \\exp({-x^2/2})dx = \\sqrt{2 \\pi}$$\n",
    "\n",
    "Some **text in bold**.\n",
    "> some text indented\n",
    "\n",
    "Markdown cells can [display HTML](https://daringfireball.net/projects/markdown/syntax#html).\n",
    "\n",
    "```\n",
    "<h3> Header 3 </h3>\n",
    "<p> This is a paragraph using HTML. <br>\n",
    "    <mark> This is important so it's marked in yellow. </mark>  </p>\n",
    "```\n",
    "\n",
    "<h3> Header 3 </h3>\n",
    "<p> This is a paragraph using HTML. <br>\n",
    "    <mark> This is important so it's marked in yellow. </mark>  </p>\n",
    "\n",
    "Images can be displayed using markdown or html. \n",
    "\n",
    "To display a picture of Prof. Taback's cat in sunglasses use the markdown code:\n",
    "\n",
    "```\n",
    "![](IMG_0332.jpeg)\n",
    "```\n",
    "NB: [Markdown has no syntax for specifying the dimensions of an image; if this is important to you, you can simply use regular HTML <img> tags.](https://daringfireball.net/projects/markdown/syntax#img)\n",
    "\n",
    "or HTML code:\n",
    "\n",
    "```\n",
    "<img src='IMG_0332.jpeg' style=\"width:400px; height:400px;\">\n",
    "```\n",
    "\n",
    "<img src='IMG_0332.jpeg' style=\"width:400px; height:400px;\">\n",
    "\n",
    "\n",
    "\n",
    "\n"
   ]
  },
  {
   "cell_type": "markdown",
   "metadata": {},
   "source": [
    "****\n",
    "## Part I: Test Scores\n",
    "\n",
    "\n",
    "### Normal distribution\n",
    "Scores on a certain test, Test A, are normally distributed with mean $\\mu=100$ and variance $\\sigma^2 = 225$.\n",
    "\n",
    "**$\\Diamond$ Question 1:** Create a markdown cell below to write the normal density function using $\\LaTeX$ in terms of the standard normal density: $$\\phi(x) = \\frac{1}{\\sqrt{2\\pi}}\\exp(-x^2/2).$$"
   ]
  },
  {
   "cell_type": "markdown",
   "metadata": {},
   "source": [
    "$$\\phi(x) = \\frac{1}{\\sqrt{2\\times 225^2\\pi}}\\exp(\\frac{-(x-100)^2}{2(225^2)}).$$"
   ]
  },
  {
   "cell_type": "markdown",
   "metadata": {},
   "source": [
    "\n",
    "Let's simulate some data from this distribution.\n",
    "\n",
    "**$\\Diamond$ Question 2:** Use [`numpy`](http://www.numpy.org/) to simulate a random sample of 500 observations from the  $N(100,15^2)$ distribution, where $N(\\mu, \\sigma^2)$ is the normal distribution with mean $\\mu$ and variance $\\sigma^2$.\n",
    "\n",
    "```python\n",
    "import numpy as np\n",
    "np.random.seed(10)                     # set random number seed\n",
    "mu = 100                               # mean of distribution\n",
    "sigma = 15                             # standard deviation of distribution\n",
    "x = mu + sigma * np.random.randn(500)  #randn is standard normal\n",
    "x[0:4]                                 # show first 4 observations\n",
    "```\n",
    "\n",
    "This would also produce the same result.  Why?\n",
    "\n",
    "```python\n",
    "x = np.random.normal(100,15,500)\n",
    "```"
   ]
  },
  {
   "cell_type": "code",
   "execution_count": 5,
   "metadata": {},
   "outputs": [
    {
     "data": {
      "text/plain": [
       "array([ 93.24275982, 116.76333336, 122.13681173,  91.82405094])"
      ]
     },
     "execution_count": 5,
     "metadata": {},
     "output_type": "execute_result"
    }
   ],
   "source": [
    "import numpy as np\n",
    "x = np.random.normal(100,15,500)\n",
    "x[0:4]                                 # show first 4 observations"
   ]
  },
  {
   "cell_type": "markdown",
   "metadata": {},
   "source": [
    "**$\\Diamond$ Question 3:** Use the sample in Question 2 to calculate the probability of a score between 90 and 100? See [`scipy.stats`](https://docs.scipy.org/doc/scipy/reference/generated/scipy.stats.percentileofscore.html#scipy.stats.percentileofscore)"
   ]
  },
  {
   "cell_type": "code",
   "execution_count": 6,
   "metadata": {
    "scrolled": true
   },
   "outputs": [
    {
     "data": {
      "text/plain": [
       "24.8"
      ]
     },
     "execution_count": 6,
     "metadata": {},
     "output_type": "execute_result"
    }
   ],
   "source": [
    "from scipy import stats\n",
    "stats.percentileofscore(x, 100) - stats.percentileofscore(x, 90)"
   ]
  },
  {
   "cell_type": "markdown",
   "metadata": {},
   "source": [
    "Let's plot the data using [`matplotlib`](https://matplotlib.org/) and [`seaborn`](https://seaborn.pydata.org/index.html) libraries.  The following code can be used to create a histogram using [`matplotlib`](https://matplotlib.org/api/_as_gen/matplotlib.pyplot.hist.html).\n",
    "\n",
    "```python\n",
    "import matplotlib.pyplot as plt\n",
    "plt.figure() # create new figure\n",
    "plt.hist(x)  #create histogram\n",
    "plt.show()   #display figure\n",
    "```\n",
    "\n",
    "For [`seaborn`](https://seaborn.pydata.org/generated/seaborn.distplot.html)\n",
    "\n",
    "```python\n",
    "import seaborn as sns\n",
    "sns.distplot(x)\n",
    "```\n",
    "\n",
    "**$\\Diamond$ Question 4:** Plot the histogram of the sample from Question 2 using both `matplotlib` and `seaborn`. "
   ]
  },
  {
   "cell_type": "code",
   "execution_count": 7,
   "metadata": {
    "scrolled": false
   },
   "outputs": [
    {
     "data": {
      "text/plain": [
       "<Figure size 640x480 with 1 Axes>"
      ]
     },
     "metadata": {},
     "output_type": "display_data"
    }
   ],
   "source": [
    "import matplotlib.pyplot as plt\n",
    "plt.figure() # create new figure\n",
    "plt.hist(x)  #create histogram\n",
    "plt.show()   #display figure"
   ]
  },
  {
   "cell_type": "code",
   "execution_count": 8,
   "metadata": {},
   "outputs": [
    {
     "data": {
      "text/plain": [
       "<matplotlib.axes._subplots.AxesSubplot at 0x1feb36849e8>"
      ]
     },
     "execution_count": 8,
     "metadata": {},
     "output_type": "execute_result"
    },
    {
     "data": {
      "image/png": "[encoded data removed]",
      "text/plain": [
       "<Figure size 432x288 with 1 Axes>"
      ]
     },
     "metadata": {
      "needs_background": "light"
     },
     "output_type": "display_data"
    }
   ],
   "source": [
    "import seaborn as sns\n",
    "sns.distplot(x)"
   ]
  },
  {
   "cell_type": "markdown",
   "metadata": {},
   "source": [
    "**$\\Diamond$ Question 5:** Plot the generated sample of observations as a boxplot. "
   ]
  },
  {
   "cell_type": "code",
   "execution_count": 9,
   "metadata": {},
   "outputs": [
    {
     "data": {
      "image/png": "[encoded data removed]",
      "text/plain": [
       "<Figure size 432x288 with 1 Axes>"
      ]
     },
     "metadata": {
      "needs_background": "light"
     },
     "output_type": "display_data"
    }
   ],
   "source": [
    "plt.figure()\n",
    "plt.boxplot(x)\n",
    "plt.show()"
   ]
  },
  {
   "cell_type": "markdown",
   "metadata": {},
   "source": [
    "## pandas\n",
    "\n",
    "Let's get some practice with pandas. [`pandas`](https://pandas.pydata.org/) is a powerful library that provides high-performance, easy-to-use data structure and data analysis tools for python. In this course, you will learn how to manipulate [different data structures](http://pandas.pydata.org/pandas-docs/stable/dsintro.html) supported by pandas and leverage the library's built-in analysis and visualization functionality. \n",
    "\n",
    "\n",
    "**$\\Diamond$ Question 6:** Store the data from question 2 as a pandas DataFrame, then plot the histogram of your data from this data structure using pandas' visualization functionality. Below is an example of how to store data in a dataframe:\n",
    "\n",
    "```python\n",
    "import pandas as pd\n",
    "x1 = [1, -1, 9]\n",
    "x2 = [0, 9, 12]\n",
    "d = {'x1' :x1, 'x2': x2} # put data in a dict\n",
    "df = pd.DataFrame(d)\n",
    "df\n",
    "```"
   ]
  },
  {
   "cell_type": "code",
   "execution_count": 10,
   "metadata": {},
   "outputs": [
    {
     "data": {
      "text/plain": [
       "array([[<matplotlib.axes._subplots.AxesSubplot object at 0x000001FEB37B4EB8>]],\n",
       "      dtype=object)"
      ]
     },
     "execution_count": 10,
     "metadata": {},
     "output_type": "execute_result"
    },
    {
     "data": {
      "image/png": "[encoded data removed]",
      "text/plain": [
       "<Figure size 432x288 with 1 Axes>"
      ]
     },
     "metadata": {
      "needs_background": "light"
     },
     "output_type": "display_data"
    }
   ],
   "source": [
    "import pandas as pd\n",
    "d = pd.DataFrame(x)\n",
    "d.hist()"
   ]
  },
  {
   "cell_type": "markdown",
   "metadata": {},
   "source": [
    "### Mixture distribution\n",
    "\n",
    "Suppose two groups of students write a test. Let $Y$ be the test score. The distribution of test scores for groups 1 and 2 are $N(70,100)$ and $N(60, 225)$.  Assume that students are randomly selected from the groups.  The probability a student is selected from group 1 is 0.3, and 0.7 from group 2.  Simulate the distribution of $Y$.\n",
    "\n",
    "Let $X|Z=1 \\sim N(70,100), X_2|Z=0 \\sim N(60,225)$, and $P(Z=1)=0.3$, where\n",
    "\n",
    "$$ Z =\n",
    "\\left\\{\n",
    "\t\\begin{array}{ll}\n",
    "\t\t1  & \\mbox{if student from group 1} \\\\\n",
    "\t\t0 & \\mbox{if student from group 2}\n",
    "\t\\end{array}\n",
    "\\right. $$\n",
    "\n",
    "**$\\Diamond$ Question 7:** Simulate 5000 observations $y_1,y_2,\\ldots, y_{5000}$ from the distribution of $Y$.\n",
    "\n",
    "HINT: \n",
    "\n",
    "1. Simulate $z_1,\\ldots, z_{5000}$ from $Bin(1,0.3)$, where $Bin(n,p)$ is the binomial distribution with $n$ independent trials each with probability $p$ of success.\n",
    "2. If $z_i = 1$ then simulate $y_i$ from $ N(70,100)$, otherwise simulate $y_i$ from $ N(60,225)$\n",
    "\n",
    "Documentation for random sampling using `SciPy` can be found [here](https://docs.scipy.org/doc/numpy-1.15.1/reference/routines.random.html)."
   ]
  },
  {
   "cell_type": "code",
   "execution_count": 11,
   "metadata": {},
   "outputs": [],
   "source": [
    "z = np.random.binomial(1, 0.3, 5000)\n",
    "\n",
    "y = [np.random.normal(60, 225, 1) if 0 else np.random.normal(70, 100) for i in z]"
   ]
  },
  {
   "cell_type": "markdown",
   "metadata": {},
   "source": [
    "**$\\Diamond$ Question 8:** Use the sample from Question 7 to calculate the probability of a score between 90 and 100? (See Question 3)."
   ]
  },
  {
   "cell_type": "code",
   "execution_count": 12,
   "metadata": {},
   "outputs": [
    {
     "data": {
      "text/plain": [
       "3.719999999999999"
      ]
     },
     "execution_count": 12,
     "metadata": {},
     "output_type": "execute_result"
    }
   ],
   "source": [
    "stats.percentileofscore(y, 100) - stats.percentileofscore(y, 90)"
   ]
  },
  {
   "cell_type": "markdown",
   "metadata": {},
   "source": [
    "Let's plot the data.\n",
    "\n",
    "**$\\Diamond$ Question 9:** Create an appropriate plot of the scores for the test in question 7, comprising of two subplots: histogram on top, and boxplot at the bottom."
   ]
  },
  {
   "cell_type": "code",
   "execution_count": 13,
   "metadata": {},
   "outputs": [
    {
     "data": {
      "text/plain": [
       "{'whiskers': [<matplotlib.lines.Line2D at 0x1feb38d73c8>,\n",
       "  <matplotlib.lines.Line2D at 0x1feb38d7710>],\n",
       " 'caps': [<matplotlib.lines.Line2D at 0x1feb38d7a58>,\n",
       "  <matplotlib.lines.Line2D at 0x1feb38d7da0>],\n",
       " 'boxes': [<matplotlib.lines.Line2D at 0x1feb38ccfd0>],\n",
       " 'medians': [<matplotlib.lines.Line2D at 0x1feb38d7e80>],\n",
       " 'fliers': [<matplotlib.lines.Line2D at 0x1feb38e1470>],\n",
       " 'means': []}"
      ]
     },
     "execution_count": 13,
     "metadata": {},
     "output_type": "execute_result"
    },
    {
     "data": {
      "image/png": "[encoded data removed]",
      "text/plain": [
       "<Figure size 432x288 with 2 Axes>"
      ]
     },
     "metadata": {
      "needs_background": "light"
     },
     "output_type": "display_data"
    }
   ],
   "source": [
    "fig, (ax1, ax2) = plt.subplots(2,1)\n",
    "ax1.hist(y)\n",
    "ax2.boxplot(y)"
   ]
  },
  {
   "cell_type": "markdown",
   "metadata": {},
   "source": [
    "<br>\n",
    "<br>\n",
    "\n",
    "****\n",
    "## Part II: Search twitter using Python\n",
    "\n",
    "\n",
    "We can use the [Python API for Twitter](https://pypi.org/project/twitter/) to collect data from the famous social network platform. \n",
    "\n",
    "You will need to:\n",
    "1. install the library using the shell command:\n",
    "\n",
    "```python\n",
    "    !pip install --user twitter\n",
    "```\n",
    "\n",
    "2. create a twitter developer account and get the credentials (token, token_secret, consumer_key, consumer_secret) to pass on to the authentication function `OAuth`. \n",
    "* Make sure that you fully understand the [restricted uses of the Twitter API](https://developer.twitter.com/en/developer-terms/more-on-restricted-use-cases)\n",
    "* [Apply]() for a developer account. You will need to enter your phone number to go through the application process. \n",
    "  * Select the option \"Request access for personal use\"\n",
    "  * Select the option \"Student project / Learning to code\" \n",
    "  * Put the following description:\n",
    "```\n",
    "            1. I'm using Twitter's API in the context of a data science course\n",
    "            2. I plan to perform analysis of Tweets to practice my coding skills on a real dataset\n",
    "            3. No, I won't be Tweeting, Retweeting nor liking content of any users.\n",
    "            4. Data will be used in the context of coursework. As such, there is no user other than the \n",
    "            students practicing and the instructors evaluating students' work. \n",
    "```\n",
    "  * Answer \"No\" to the question on whether information will be shared with a government entity.\n",
    "  * Confirm application, you should receive an email with further instructions to obtain your credentials (i.e. create an app)\n",
    "\n",
    "\n",
    "\n",
    "The code below allows to open a seession through the Twitter API using your twitter developer account.\n",
    "\n",
    "```python\n",
    "    from twitter import *\n",
    "\n",
    "    t = Twitter(\n",
    "        auth=OAuth(token, token_secret, consumer_key, consumer_secret))\n",
    "    x = t.search.tweets('mysearch') # add search term here\n",
    "```\n",
    "<br><br>\n",
    "\n",
    "**$\\Diamond$ Question 1:** Connect to the Twitter API using your credentials, then search for the latest tweets about `holiday2018`."
   ]
  },
  {
   "cell_type": "code",
   "execution_count": 18,
   "metadata": {},
   "outputs": [],
   "source": [
    "from twitter import *\n",
    "t = Twitter(auth=OAuth('3044005754-IcGFceybHMpRNqxWt2czXyUWAPZB0RP8GN9WlWn', 'nPmvzdiMjUSivYDiQAvqDUaBaEKFJWwK6d3yeyqFUcGQG', \n",
    "                       'FnPgqpzBspbUCoETxrhaMr6fC', 'jnfc46RQGvkjleBgIlij5y73wt8a9YpiohuSd6kDMDs165KeTk'))\n",
    "x = t.search.tweets(q='kancolle')\n"
   ]
  },
  {
   "cell_type": "markdown",
   "metadata": {},
   "source": [
    "**$\\Diamond$ Question 2:** Print the following information about the first tweet: the text, the source, and the followers count of this tweet."
   ]
  },
  {
   "cell_type": "code",
   "execution_count": 19,
   "metadata": {
    "scrolled": true
   },
   "outputs": [
    {
     "name": "stdout",
     "output_type": "stream",
     "text": [
      "おっそーい https://t.co/S5IO87xAoj\n",
      "<a href=\"https://about.twitter.com/products/tweetdeck\" rel=\"nofollow\">TweetDeck</a>\n",
      "99\n"
     ]
    }
   ],
   "source": [
    "first = x['statuses'][0]\n",
    "print(first['text'])\n",
    "print(first['source'])\n",
    "print(first['user']['followers_count'])"
   ]
  },
  {
   "cell_type": "markdown",
   "metadata": {},
   "source": [
    "**$\\Diamond$ Question 3:** Store all the tweet in a DataFrame, using the following dictionary.\n",
    "\n",
    "```python\n",
    "    dict_t = {'user': [], 'date': [], 'text': [], 'favorite_count': []}\n",
    "```"
   ]
  },
  {
   "cell_type": "code",
   "execution_count": 20,
   "metadata": {},
   "outputs": [],
   "source": [
    "dict_t = {'user': [], 'date': [], 'text': [], 'favorite_count': []}\n",
    "for tweet in x['statuses']:\n",
    "    dict_t['user'].append(tweet['user'])\n",
    "    dict_t['date'].append(tweet['created_at'])\n",
    "    dict_t['text'].append(tweet['text'])\n",
    "    dict_t['favorite_count'].append(tweet['favorite_count'])\n",
    "\n",
    "df = pd.DataFrame(dict_t)"
   ]
  },
  {
   "cell_type": "markdown",
   "metadata": {},
   "source": [
    "**$\\Diamond$ Question 4:** Plot the distribution of favorite counts as a histogram. Write one to two sentences using simple language (i.e., [layman's terms](https://www.merriam-webster.com/dictionary/layman%27s%20terms)) that explain the histogram."
   ]
  },
  {
   "cell_type": "code",
   "execution_count": 21,
   "metadata": {
    "scrolled": true
   },
   "outputs": [
    {
     "data": {
      "text/plain": [
       "array([[<matplotlib.axes._subplots.AxesSubplot object at 0x000001FEB38EC9B0>]],\n",
       "      dtype=object)"
      ]
     },
     "execution_count": 21,
     "metadata": {},
     "output_type": "execute_result"
    },
    {
     "data": {
      "image/png": "[encoded data removed]",
      "text/plain": [
       "<Figure size 432x288 with 1 Axes>"
      ]
     },
     "metadata": {
      "needs_background": "light"
     },
     "output_type": "display_data"
    }
   ],
   "source": [
    "df.hist(column = 'favorite_count')"
   ]
  },
  {
   "cell_type": "markdown",
   "metadata": {},
   "source": [
    "Most tweets have zero of only a few favorite counts"
   ]
  },
  {
   "cell_type": "markdown",
   "metadata": {},
   "source": [
    "**$\\Diamond$ Question 5:** Use [`nbconvert`](https://nbconvert.readthedocs.io/en/latest/install.html) to save this Jupyter notebook without code cells.  The command line syntax is: \n",
    "\n",
    "```\n",
    "jupyter nbconvert --TemplateExporter.exclude_input=True myfirstnb.ipynb\n",
    "```\n",
    "\n",
    "Commit this html file and the .ipynb file to your Github repository."
   ]
  }
 ],
 "metadata": {
  "kernelspec": {
   "display_name": "Python 3",
   "language": "python",
   "name": "python3"
  },
  "language_info": {
   "codemirror_mode": {
    "name": "ipython",
    "version": 3
   },
   "file_extension": ".py",
   "mimetype": "text/x-python",
   "name": "python",
   "nbconvert_exporter": "python",
   "pygments_lexer": "ipython3",
   "version": "3.6.7"
  }
 },
 "nbformat": 4,
 "nbformat_minor": 2
}
