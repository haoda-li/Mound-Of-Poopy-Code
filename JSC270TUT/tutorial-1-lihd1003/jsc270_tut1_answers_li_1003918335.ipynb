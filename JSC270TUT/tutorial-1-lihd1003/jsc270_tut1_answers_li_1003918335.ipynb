{
 "cells": [
  {
   "cell_type": "markdown",
   "metadata": {},
   "source": [
    "# JSC270S - Tutorial \\#1 : Hiring algorithms\n",
    "\n",
    "## Profs. F. Chevalier and N. Taback\n",
    "\n",
    "\n",
    "## Date: January 16, 2019\n",
    "## Time: 12:00 - 14:00\n",
    "## Location: BA 3175\n",
    "\n",
    "\n",
    "****\n",
    "## Instructions\n",
    "\n",
    "- Make a copy of this notebook.\n",
    "\n",
    "- The notebook should be named: jsc270_tut1_answers_lastname_studentnumber, where \"lastname\" is your last name, and \"studentnumber\" is your UofT student number.\n",
    "\n",
    "- Answer the questions in the cells that indicate where your answers should be placed. Leave the initial comment in the code cell and heading (indicated by `# Answer for qustion XX`).  For example, place your code for Question 1 in the code cell with comment `# Enter your answer for Question 1 into this cell` (remember not to delete this comment).\n",
    "\n",
    "- Make sure that you explain your solutions when asked and comment your code. \n",
    "\n",
    "- Commit and push changes to the Github classroom repository that we has been provided (more details below).\n",
    "\n",
    "\n",
    "### What should be submitted?\n",
    "\n",
    "- A *Jupyter notebook* using Python that contains all the data analyses. Make sure to comment your code in the code cells.\n",
    "\n",
    "- Additional files that your notebook requires to compile properly (e.g. a data file).\n",
    "\n",
    "- A pdf of your Jupyter notebook exported as a pdf file.  This can be done using [`nbconvert`](https://nbconvert.readthedocs.io/en/latest/install.html).\n",
    "\n",
    "\n",
    "### When should it be submitted?\n",
    "\n",
    "*This tutorial consists of a 2-step submission as follows:*\n",
    "\n",
    "- **At the end of the tutorial (in-lab tutorial assignment)**: Commit and push your notebook to the Github classroom repository that contains your answers (i.e., the file named: jsc270_tut1_answers_lastname_studentnumber.ipynb) before 14:10 on the day of the tutorial, January 16.\n",
    "\n",
    "- In between January 16, 14:10 p.m. and January 21, 11:30 you should commit and push your answer notebook as you work on the assignment during the week. Commiting and pushing often is good practice (and as a bonus you will have a backup and be able to revisit previous version).\n",
    "\n",
    "- [`nbdime`](https://nbdime.readthedocs.io/en/latest/) is a Python package that allows you (and the teaching team) to the changes you have made to your assignment. \n",
    "\n",
    "- **Homework (tutorial assignment completion)**: Push your completed tutorial by 11:30, Monday, January 21.  Your last commit closest to 11:30 will be considered your final assignment.\n",
    "\n",
    "### Where should the assignment be submitted?\n",
    "\n",
    "Push your finished notebook and any other files on Github, through the following link: [https://classroom.github.com/a/VSn3JxaH](https://classroom.github.com/a/VSn3JxaH)\n",
    "\n",
    "Upload the pdf of your answer notebook to the JSC270 course page on Quercus.\n",
    "\n",
    "***\n",
    "\n",
    "## Tutorial Grading\n",
    "\n",
    "Tutorials will be graded according to the following marking scheme.\n",
    "\n",
    "<table>\n",
    "  <tr>\n",
    "    <th></th>\n",
    "    <th>Marks</th>\n",
    "  </tr>\n",
    "  <tr>\n",
    "    <td>Tutorial Participation</td>\n",
    "    <td>5</td>\n",
    "  </tr>\n",
    "  <tr>\n",
    "    <td>Attendance for entire tutorial</td>\n",
    "    <td>5</td>\n",
    "  </tr>\n",
    "  <tr>\n",
    "    <td>In-lab tutorial assignment</td>\n",
    "    <td>20</td>\n",
    "  </tr>\n",
    "  <tr>\n",
    "    <td>Tutorial assignment completion</td>\n",
    "    <td>20</td>\n",
    "  </tr>\n",
    "</table>\n",
    "\n",
    "\n",
    "### Grading Rubric for Tutorial Assignments\n",
    "\n",
    "Tutorial grading rubric is available [here](https://jsc270.github.io/tut_docs.html#tutorial_grading).\n",
    "\n",
    "\n",
    "***\n",
    "\n",
    "## Tutorial objectives\n",
    "The goal of this tutorial is to design appropriate selection criteria to filter data and reflect on the implications of the solution in the context of a real-world scenario. In this tutorial, you will practice table manipulations, as well as synthetic data generation. More specifically, we will cover the following in this tutorial: \n",
    "\n",
    "* Read from, and write to a csv file \n",
    "* Use python to extract data entries that satify given criteria\n",
    "* Use python to create numerical and visual summaries \n",
    "* Create statistically meaningful solutions to selection\n",
    "* Generate a synthetic dataset from given probability distribution functions\n",
    "* Reflect on implications of automated methods to data selection\n",
    "\n",
    "<br>"
   ]
  },
  {
   "cell_type": "markdown",
   "metadata": {},
   "source": [
    "# Fill in your name and student number in this cell\n",
    "\n",
    "<h2 id=\"first\"> <mark> First Name: Haoda </mark> </h2>\n",
    "\n",
    "<h2 id=\"last\"> <mark> Last Name: Li</mark> </h2>\n",
    "\n",
    "<br>\n",
    "\n",
    "<h2 id=\"stnum\"> <mark> Student Number: 1003918335 </mark> </h2>"
   ]
  },
  {
   "cell_type": "markdown",
   "metadata": {},
   "source": [
    "***\n",
    "# An algorithm to select the most promising candidates\n",
    "\n",
    "Imagine you are working for Moogle, a well-known tech company that receives tens of thousands of job applications from graduating seniors every year. Since the company receives too many job applications for Human Resources (HR) to individually assess in a reasonable amount of time, you are asked to create a program that algorithmically analyzes applications and selects the ones most worth passing onto HR.\n",
    "\n",
    "Since it’s difficult to create these first-pass cuts, Moogle designs their application forms to get some numerical data about their applicants’ education in Computer Science specifically and stores this information in a large [comma-separated value (csv) file](https://en.wikipedia.org/wiki/Comma-separated_values).\n",
    "\n",
    "\n",
    "### Applicant data\n",
    "\n",
    "Applicants to a developer position must enter the grades they received in 6 core Computer Science (CS) courses, as well as their overall GPA.  \n",
    "For example, a student who received the following grades...\n",
    "\n",
    "> __Intro to CS__: 100  \n",
    "> __Data Structures__: 95  \n",
    "> __Software Engineering__: 80  \n",
    "> __Algorithms__: 89  \n",
    "> __Computer Organization__: 91  \n",
    "> __Operating Systems__: 75  \n",
    "> __Overall GPA__: 83\n",
    "\n",
    "will appear in the csv file as follows: `cs0001, 100, 95, 80, 89, 91, 75, 83`, where the first index (or attribute), `csc0001` corresponds to the applicant id automatically generated by the system.\n",
    "\n",
    "The data for 5000 applicants is available in a .csv format, at [CS-apps.csv](CS-apps.csv)."
   ]
  },
  {
   "cell_type": "markdown",
   "metadata": {},
   "source": [
    "***\n",
    "## Part 1 - Selecting the best applicants\n",
    "***\n",
    "\n",
    "### Loading data from a file\n",
    "\n",
    "There are several options to choose from to load data from a csv file into a Python data structure. We list two common approaches here:\n",
    "\n",
    "*Option 1:* Use the python csv library.  \n",
    "See the documentation on how to read and write csv files using this library [here](https://docs.python.org/3/library/csv.html). A starter code is provided below. \n",
    "\n",
    "Here is an example of a basic .csv file:"
   ]
  },
  {
   "cell_type": "code",
   "execution_count": 1,
   "metadata": {},
   "outputs": [],
   "source": [
    "# !less data.csv"
   ]
  },
  {
   "cell_type": "markdown",
   "metadata": {},
   "source": [
    "The code below is an example of how you can read data from the `data.csv` file using the python csv library, and display the first and last indexes of each row."
   ]
  },
  {
   "cell_type": "code",
   "execution_count": 2,
   "metadata": {},
   "outputs": [],
   "source": [
    "# import csv\n",
    "# with open('data.csv', 'r') as csvfile:\n",
    "#      datareader = csv.reader(csvfile, delimiter=',')\n",
    "#      for row in datareader:\n",
    "#          print(row[0], row[3]) #or row[-1] for the last index"
   ]
  },
  {
   "cell_type": "markdown",
   "metadata": {},
   "source": [
    "*Option 2:* Another option (recommended for this tutorial) is to use the built-in csv reader of pandas (see [pandas documentation](https://pandas.pydata.org/) ).\n",
    "\n",
    "<br>\n",
    "\n",
    "**$\\Diamond$ Question 1:** Read the csv file [`CS-apps.csv`](CS-apps.csv) into Python."
   ]
  },
  {
   "cell_type": "code",
   "execution_count": 3,
   "metadata": {},
   "outputs": [],
   "source": [
    "import pandas as pd\n",
    "df = pd.read_csv('CS-apps.csv')"
   ]
  },
  {
   "cell_type": "markdown",
   "metadata": {},
   "source": [
    "### Write Python code to select the most promising candidates\n",
    "\n",
    "**$\\Diamond$ Question 2.a:** Select applicants whose overall GPA is at least 85.  "
   ]
  },
  {
   "cell_type": "code",
   "execution_count": 4,
   "metadata": {},
   "outputs": [],
   "source": [
    "gpa_cut = df.loc[df['GPA'] >= 85]"
   ]
  },
  {
   "cell_type": "markdown",
   "metadata": {},
   "source": [
    "**$\\Diamond$ Question 2.b:** Select applicants who have no grade below 65.  "
   ]
  },
  {
   "cell_type": "code",
   "execution_count": 5,
   "metadata": {
    "scrolled": true
   },
   "outputs": [],
   "source": [
    "min_cut = df.loc[df.iloc[:, 1:7].min(axis = 1) >= 65]"
   ]
  },
  {
   "cell_type": "markdown",
   "metadata": {},
   "source": [
    "**$\\Diamond$ Question 2.c:** Select applicants who have at least 4 grades strictly above 85.  "
   ]
  },
  {
   "cell_type": "code",
   "execution_count": 6,
   "metadata": {
    "scrolled": true
   },
   "outputs": [],
   "source": [
    "# Enter your answer for Question 2.c into this cell\n",
    "import numpy as np\n",
    "courses = list(df.columns[1:7])\n",
    "\n",
    "def check_85(row):\n",
    "    return sum(row[courses] > 85) >= 4\n",
    "\n",
    "four_course_cut = df.loc[df.apply(check_85, axis=1)]"
   ]
  },
  {
   "cell_type": "markdown",
   "metadata": {},
   "source": [
    "**$\\Diamond$ Question 2.d:** Select applicants who have an average of CS grades strictly above 75."
   ]
  },
  {
   "cell_type": "code",
   "execution_count": 7,
   "metadata": {
    "scrolled": true
   },
   "outputs": [],
   "source": [
    "# Enter your answer for Question 2.d into this cell\n",
    "def check_average(row):\n",
    "    return row[courses].mean() > 75\n",
    "\n",
    "ave_cut = df.loc[df.apply(check_average, axis=1)]"
   ]
  },
  {
   "cell_type": "markdown",
   "metadata": {},
   "source": [
    "**$\\Diamond$ Question 3:** For each of the above algorithms, answer the following questions:\n",
    "* The criteria in questions 2.a - 2.d define the \"cut\".  How many applicants made the cut?  What percentage of the application pool made the cut?\n",
    "* Were applicants 'cs0270' and 'cs2537' selected?\n",
    "* Explain your answer in a few sentences."
   ]
  },
  {
   "cell_type": "code",
   "execution_count": 8,
   "metadata": {},
   "outputs": [
    {
     "name": "stdout",
     "output_type": "stream",
     "text": [
      "[1990, 2935, 892, 4695, 259]\n",
      "[39.800000000000004, 58.699999999999996, 17.84, 93.89999999999999, 5.18]\n",
      "[(False, False), (True, False), (False, False), (True, True)]\n",
      "False False\n"
     ]
    }
   ],
   "source": [
    "# Code cell for question 3\n",
    "\n",
    "def summary_cuts(cuts, df):\n",
    "    selected = cuts[0]\n",
    "    for i in range(1,len(cuts)):\n",
    "        selected = selected.merge(cuts[i]) \n",
    "    cuts.append(selected)\n",
    "    \n",
    "    # cut numbers\n",
    "    cut_number = [len(cut) for cut in cuts]\n",
    "    print(cut_number)\n",
    "\n",
    "    # cut percentage\n",
    "    cut_average = [number / len(df) * 100 for number in cut_number]\n",
    "    print(cut_average)\n",
    "\n",
    "summary_cuts([gpa_cut, min_cut, four_course_cut, ave_cut], df)\n",
    "\n",
    "# selected applicants\n",
    "applicants_in = [((cut.ID == 'cs0270').any(), (cut.ID == 'cs2537').any()) \n",
    "                 for cut in [gpa_cut, min_cut, four_course_cut, ave_cut]]\n",
    "print(applicants_in)\n",
    "print(all(i[0] for i in applicants_in), all(i[1] for i in applicants_in))\n"
   ]
  },
  {
   "cell_type": "markdown",
   "metadata": {},
   "source": [
    "# Answer for question 3\n",
    "\n",
    "- For the number of applicants made the cut\n",
    " - 1990 applicants made the 2.a cut (overall GPA is at least 85), the percentage is 39.8%. \n",
    " - 2935 applicants made the 2.b cut (no grade below 65), the percentage is 58.7%.\n",
    " - 892 applicants made the 2.c cut (at least 4 grades strictly above 85), the percentage is 17.8%.\n",
    " - 4695 applicants made the 2.d cut (an average of CS grades strictly above 75), the percentage is 93.9%.\n",
    " - 259 applicants made all the cuts, the percentage is 5.18%\n",
    "- Applicant 'cs0270' is selected in 2.b, 2.c cuts, applicant 'cs2537' is selected in 2.d cut. Both of them do not pass all the cuts. "
   ]
  },
  {
   "cell_type": "markdown",
   "metadata": {},
   "source": [
    "### Are we doing things right?  — Creating numerical and visual summaries of the data\n",
    "\n",
    "The above algorithms are pretty naive. Let's see if we can do better. First, let's have a look at what our data looks like. To do so, we are going to analyse our data more closely.  \n",
    "\n",
    "*Visual summaries*: Visualize distributions of grades using [matplotlib](https://matplotlib.org/).\n",
    "\n",
    "**$\\Diamond$ Question 4.a:** Plot the distribution of grades in the \"Intro to CS\" course. What do you observe?  "
   ]
  },
  {
   "cell_type": "code",
   "execution_count": 28,
   "metadata": {},
   "outputs": [
    {
     "data": {
      "text/plain": [
       "Text(0.5, 1.0, 'Histgram of Intro to CS grades')"
      ]
     },
     "execution_count": 28,
     "metadata": {},
     "output_type": "execute_result"
    },
    {
     "data": {
      "image/png": "[encoded data removed]",
      "text/plain": [
       "<Figure size 432x288 with 1 Axes>"
      ]
     },
     "metadata": {
      "needs_background": "light"
     },
     "output_type": "display_data"
    }
   ],
   "source": [
    "#code for 4.a.\n",
    "ax = df['Intro to CS'].hist(bins=range(50, 101, 1))\n",
    "ax.set_xlabel('Applicants')\n",
    "ax.set_ylabel('Counts')\n",
    "ax.set_title('Histgram of Intro to CS grades')"
   ]
  },
  {
   "cell_type": "markdown",
   "metadata": {},
   "source": [
    "# Answer for question 4.a \n",
    "\n",
    "- The plot is likely to follow a normal distribution. \n",
    "- The mean is around 90, most of the grades fall in the range of 80-100. "
   ]
  },
  {
   "cell_type": "markdown",
   "metadata": {},
   "source": [
    "**$\\Diamond$ Question 4.b:** Plot the distribution of grades in the \"Operating systems\" course. What do you observe?  "
   ]
  },
  {
   "cell_type": "code",
   "execution_count": 10,
   "metadata": {
    "scrolled": true
   },
   "outputs": [
    {
     "data": {
      "text/plain": [
       "Text(0.5, 1.0, 'Histgram of Operative systems grades')"
      ]
     },
     "execution_count": 10,
     "metadata": {},
     "output_type": "execute_result"
    },
    {
     "data": {
      "image/png": "[encoded data removed]",
      "text/plain": [
       "<Figure size 432x288 with 1 Axes>"
      ]
     },
     "metadata": {
      "needs_background": "light"
     },
     "output_type": "display_data"
    }
   ],
   "source": [
    "# code for 4.b.\n",
    "ax = df['Operative systems'].hist(bins=range(50, 101, 1))\n",
    "ax.set_xlabel('Applicants')\n",
    "ax.set_ylabel('Counts')\n",
    "ax.set_title('Histgram of Operative systems grades')"
   ]
  },
  {
   "cell_type": "markdown",
   "metadata": {},
   "source": [
    "# Answer for question 4.b.\n",
    "- The distribution is right-skewed\n",
    "- The plots is likely to follow a skewed normal distribution, \n",
    "- Most of the grades are higher than 80, the mean is around 83, and the standard deviation is small compared to other plots. "
   ]
  },
  {
   "cell_type": "markdown",
   "metadata": {},
   "source": [
    "**$\\Diamond$ Question 4.c:** Repeat 4.b. for the remaining courses. What can you conclude?"
   ]
  },
  {
   "cell_type": "code",
   "execution_count": 11,
   "metadata": {
    "scrolled": false
   },
   "outputs": [
    {
     "data": {
      "image/png": "[encoded data removed]",
      "text/plain": [
       "<Figure size 1080x1080 with 4 Axes>"
      ]
     },
     "metadata": {
      "needs_background": "light"
     },
     "output_type": "display_data"
    }
   ],
   "source": [
    "# code for 4.c.\n",
    "import matplotlib.pyplot as plt\n",
    "courses = ['Data structure', 'Software engineering', 'Algorithms', \n",
    "           'Computer organization']\n",
    "fig, axes = plt.subplots(nrows=2, ncols = 2, figsize=(15,15))\n",
    "for i in range(0, 4):\n",
    "    df[courses[i]].hist(ax=axes[i//2, i%2], bins=range(50, 101, 1))\n",
    "    axes[i//2, i%2].set_xlabel('Applicants')\n",
    "    axes[i//2, i%2].set_ylabel('Counts')\n",
    "    axes[i//2, i%2].set_title('Histgram of '+courses[i])"
   ]
  },
  {
   "cell_type": "markdown",
   "metadata": {},
   "source": [
    "# Answer for question 4.c.\n",
    "\n",
    "- There is a strong correlation between Data Structure grades and Algorithm grades, both of them may follow a normal distribution with mean around 85 and with a similar stand deviation. \n",
    "- The grades of Software engineering is likely to follow a mixture distribution. Around 60-70% applicants get a grade in the range 50-80 and the rest applicants have grade between 80 and 100. Both groups are likely to follow normal distribution, with the mean 65 for the majority of applicants, and the mean 90 for the rest of applicants. \n",
    "- The grades of Computer organization is likely to follow a mixture distribution. It can be divided into three groups. Most applicants (70%) are likely to follow a normal distribution with mean around 75 and with a small stand deviation; 20% applicants are likely to follow a normal distribution with mean around 65 and with a small deviation, the rest 10% applicants are likely to follow a normal distribution with mean around 90 and with a larger standard deviation."
   ]
  },
  {
   "cell_type": "markdown",
   "metadata": {},
   "source": [
    "*Numerical summaries*: Calculate simple statistics.\n",
    "\n",
    "* See documentatation for `pandas` [descriptive statistics functions](http://pandas.pydata.org/pandas-docs/stable/api.html#api-dataframe-stats)\n",
    "* See documentation for `numpy` [descriptive statistics functions](https://docs.scipy.org/doc/numpy/reference/routines.statistics.html#averages-and-variances)\n",
    "\n",
    "**$\\Diamond$ Question 5.a:** Using the pandas method [`describe`](http://pandas.pydata.org/pandas-docs/stable/generated/pandas.Series.describe.html), generate statistical summaries for each course.  "
   ]
  },
  {
   "cell_type": "code",
   "execution_count": 12,
   "metadata": {},
   "outputs": [
    {
     "name": "stdout",
     "output_type": "stream",
     "text": [
      "count    5000.000000\n",
      "mean       83.808800\n",
      "std         8.895531\n",
      "min        50.000000\n",
      "25%        78.000000\n",
      "50%        84.000000\n",
      "75%        91.000000\n",
      "max       100.000000\n",
      "Name: Data structure, dtype: float64\n",
      "\n",
      "\n",
      "count    5000.000000\n",
      "mean       72.315000\n",
      "std        12.336799\n",
      "min        50.000000\n",
      "25%        63.000000\n",
      "50%        68.000000\n",
      "75%        85.000000\n",
      "max       100.000000\n",
      "Name: Software engineering, dtype: float64\n",
      "\n",
      "\n",
      "count    5000.000000\n",
      "mean       83.333000\n",
      "std        10.110636\n",
      "min        50.000000\n",
      "25%        76.000000\n",
      "50%        84.000000\n",
      "75%        91.000000\n",
      "max       100.000000\n",
      "Name: Algorithms, dtype: float64\n",
      "\n",
      "\n",
      "count    5000.000000\n",
      "mean       74.726400\n",
      "std         7.689822\n",
      "min        59.000000\n",
      "25%        70.000000\n",
      "50%        75.000000\n",
      "75%        78.000000\n",
      "max       100.000000\n",
      "Name: Computer organization, dtype: float64\n",
      "\n",
      "\n"
     ]
    }
   ],
   "source": [
    "# enter code for question 5.a.\n",
    "for course in courses:\n",
    "    print(df[course].describe())\n",
    "    print('\\n')"
   ]
  },
  {
   "cell_type": "markdown",
   "metadata": {},
   "source": [
    "**$\\Diamond$ Question 5.b:** Generate the `min`, `max`, `mean`, `std`, `lower quartile`, `second quartile (median)`, `upper quartile`, `top 10% percentile` values for \"Operating systems\" and \"Overall GPA\". For this question, you must use the dedicated function for each value (i.e., don't use `describe`). "
   ]
  },
  {
   "cell_type": "code",
   "execution_count": 13,
   "metadata": {},
   "outputs": [
    {
     "data": {
      "text/html": [
       "<div>\n",
       "<style scoped>\n",
       "    .dataframe tbody tr th:only-of-type {\n",
       "        vertical-align: middle;\n",
       "    }\n",
       "\n",
       "    .dataframe tbody tr th {\n",
       "        vertical-align: top;\n",
       "    }\n",
       "\n",
       "    .dataframe thead th {\n",
       "        text-align: right;\n",
       "    }\n",
       "</style>\n",
       "<table border=\"1\" class=\"dataframe\">\n",
       "  <thead>\n",
       "    <tr style=\"text-align: right;\">\n",
       "      <th></th>\n",
       "      <th>name</th>\n",
       "      <th>min</th>\n",
       "      <th>max</th>\n",
       "      <th>mean</th>\n",
       "      <th>std</th>\n",
       "      <th>lower quartile</th>\n",
       "      <th>median</th>\n",
       "      <th>upper quartile</th>\n",
       "      <th>top 10% percentile</th>\n",
       "    </tr>\n",
       "  </thead>\n",
       "  <tbody>\n",
       "    <tr>\n",
       "      <th>0</th>\n",
       "      <td>Operative systems</td>\n",
       "      <td>79</td>\n",
       "      <td>98</td>\n",
       "      <td>84.0002</td>\n",
       "      <td>3.005596</td>\n",
       "      <td>82.0</td>\n",
       "      <td>83.0</td>\n",
       "      <td>86.0</td>\n",
       "      <td>88.0</td>\n",
       "    </tr>\n",
       "    <tr>\n",
       "      <th>1</th>\n",
       "      <td>GPA</td>\n",
       "      <td>50</td>\n",
       "      <td>100</td>\n",
       "      <td>80.8890</td>\n",
       "      <td>10.743191</td>\n",
       "      <td>73.0</td>\n",
       "      <td>81.0</td>\n",
       "      <td>89.0</td>\n",
       "      <td>95.0</td>\n",
       "    </tr>\n",
       "  </tbody>\n",
       "</table>\n",
       "</div>"
      ],
      "text/plain": [
       "                name  min  max     mean        std  lower quartile  median  \\\n",
       "0  Operative systems   79   98  84.0002   3.005596            82.0    83.0   \n",
       "1                GPA   50  100  80.8890  10.743191            73.0    81.0   \n",
       "\n",
       "   upper quartile  top 10% percentile  \n",
       "0            86.0                88.0  \n",
       "1            89.0                95.0  "
      ]
     },
     "execution_count": 13,
     "metadata": {},
     "output_type": "execute_result"
    }
   ],
   "source": [
    "# enter code for question 5.b.\n",
    "my_describe = {'name': [], 'min':[], 'max':[], 'mean':[], 'std':[], \n",
    "               'lower quartile': [], 'median':[], 'upper quartile': [], \n",
    "               'top 10% percentile':[]}\n",
    "for course in ['Operative systems', 'GPA']:\n",
    "    my_describe['name'].append(course)\n",
    "    my_describe['min'].append(df[course].min())\n",
    "    my_describe['max'].append(df[course].max())\n",
    "    my_describe['mean'].append(df[course].mean())\n",
    "    my_describe['std'].append(df[course].std())\n",
    "    my_describe['lower quartile'].append(df[course].quantile(0.25))\n",
    "    my_describe['median'].append(df[course].quantile(0.5))\n",
    "    my_describe['upper quartile'].append(df[course].quantile(0.75))\n",
    "    my_describe['top 10% percentile'].append(df[course].quantile(0.9))\n",
    "df_describe = pd.DataFrame(my_describe)\n",
    "df_describe"
   ]
  },
  {
   "cell_type": "markdown",
   "metadata": {},
   "source": [
    "### Improved algorithm\n",
    "\n",
    "**$\\Diamond$ Question 6:** Use your data analyses in questions 4 and 5 to develop a new criteria (i.e., different from the criteria given in question 2) to select the top applicants.  Describe the reasoning behind your new criteria and why your new criteria improves the selection process."
   ]
  },
  {
   "cell_type": "markdown",
   "metadata": {},
   "source": [
    "# Answer for question 6\n",
    "\n",
    "## Algorithm\n",
    "- Select all applicants having no grades below 65 in Software engineering and Computer organization and no grades below 70 in the other courses. \n",
    "- Select all applicants having at least one grades above the top 10% quantile. \n",
    "- Select all applicants with GPA at least 85.\n",
    "- Select all applicants having at least four grades above the first quartile. \n",
    "\n",
    "## Reasoning\n",
    "- I keep 2.a cut because it is a good cut, since GPA is a good summary of the applicant's overall study.\n",
    "- The old criteria is not very balanced for each cut, especially for 2.c and 2.d. The new criteria makes sure that each cut will select around half of the applicants.\n",
    "- The new criteria selects applicants based on the quartiles and mean instead of hard-coded cutoff marks. The hard-coded marks are more to make sure the applicants will meet the minimum requirements. \n",
    "- The 2.c cut in the old criteria does not concern about the fact that the six courses having quite different means and distributions, there are 2 courses are much harder to get 85 compared to others. The new criteria takes consideration and uses the quartile instead of a cutoff mark. "
   ]
  },
  {
   "cell_type": "markdown",
   "metadata": {},
   "source": [
    "**$\\Diamond$ Question 7:** Write a program using Python that returns a new list of worthwhile candidates.  How different is your list compared to the list using the criteria in question 2?  "
   ]
  },
  {
   "cell_type": "code",
   "execution_count": 14,
   "metadata": {},
   "outputs": [],
   "source": [
    "# code for question 7\n",
    "\n",
    "# cut 1\n",
    "def check_min(row):\n",
    "    for i in [1, 2, 4, 5]:\n",
    "        if (row[i] < 70):\n",
    "            return False\n",
    "    for i in [3, 6]:\n",
    "        if (row[i] < 65):\n",
    "            return False\n",
    "    return True\n",
    "\n",
    "min_cut_new = df.loc[df.apply(check_min, axis=1)]\n",
    "\n",
    "# cut 2\n",
    "quantile_90 = df.quantile(0.9, 0)\n",
    "def check_best(row, quantile_90):\n",
    "    for i in range(0, 6):\n",
    "        if (row[i + 1] > quantile_90[i]):\n",
    "            return True\n",
    "    return False\n",
    "\n",
    "best_cut_new = df.loc[df.apply(check_best,args=(quantile_90, ), axis=1)]\n",
    "\n",
    "# cut 3, same as 2.a since it is a good cut\n",
    "\n",
    "# cut 4 \n",
    "f_quantile = df.quantile(0.25, 0)\n",
    "def check_mean(row, f_quantile):\n",
    "    return sum(row[courses] > f_quantile[courses]) >= 4\n",
    "\n",
    "mean_cut_new = df.loc[df.apply(check_mean, args=(f_quantile, ), axis=1)]"
   ]
  },
  {
   "cell_type": "code",
   "execution_count": 15,
   "metadata": {},
   "outputs": [
    {
     "name": "stdout",
     "output_type": "stream",
     "text": [
      "[2685, 1991, 1990, 1783, 336]\n",
      "[53.7, 39.82, 39.800000000000004, 35.66, 6.72]\n"
     ]
    }
   ],
   "source": [
    "summary_cuts([min_cut_new, best_cut_new, gpa_cut, mean_cut_new], df)"
   ]
  },
  {
   "cell_type": "markdown",
   "metadata": {},
   "source": [
    "# Answer for question 7\n",
    "\n",
    "- The new cuts is more balanced - each cut will select 35-50% of applicants.\n",
    "- Slight more number of applicants make all the cuts (new 336 vs. old 259). "
   ]
  },
  {
   "cell_type": "markdown",
   "metadata": {},
   "source": [
    "**$\\Diamond$ Question 8:** Briefly describe the tradeoffs of your selection criteria versus the criteria in question 2."
   ]
  },
  {
   "cell_type": "markdown",
   "metadata": {},
   "source": [
    "# Answer for question 8\n",
    "\n",
    "- The new criteria is based more on the ratio of selections by using percentile values. The new criteria relies more on the overall quality of the applicants instead of a absolute standard. \n",
    "- The new criteria takes more time to run, since the algorithm is more complicated.\n",
    "- The new criteria does not ask for an average of the core courses."
   ]
  },
  {
   "cell_type": "markdown",
   "metadata": {},
   "source": [
    "***\n",
    "## Part 2 - Generate a synthetic dataset\n",
    "***\n",
    "\n",
    "Before adopting your algorithm, HR wants to test your proposed algorithm, and compare it against a third-party solution on different, larger datasets. To do so, they ask you to write code for them to generate synthetic data with the following properties.\n",
    "\n",
    "* **Introduction to CS:**  \n",
    "  * normal distribution $N(90, 5^2)$\n",
    "\n",
    "* **Data structures:**\n",
    "  * normal distribution $N(85,10^2)$\n",
    "\n",
    "* **Software engineering** (renowned as either you're good at it, either you're weak):\n",
    "  * typically  $30\\%$ of the population has strong results: normal distribution  $N(90,5^2)$ \n",
    "  * the rest is weaker: normal distribution $N(65,5^2)$ \n",
    "\n",
    "* **Algorithms:**\n",
    "  * strong correlation with data structures, typically within the same (10 points) range\n",
    "\n",
    "* **Computer organization:**\n",
    "  * normal distribution  $N(75,15^2)$ \n",
    "  * some exceptional grades (3% of the population):  $N(95,2^2)$ \n",
    "  * some very low grades (10% of the population):  $N(60,15^2)$ \n",
    "\n",
    "* **Operating systems:**\n",
    "  * [skew normal distribution](https://en.wikipedia.org/wiki/Skew_normal_distribution) $\\alpha=10$, $\\xi=80$ , $\\omega=5$ \n",
    "\n",
    "* **GPA**\n",
    "  * about half of the population is \"average\": normal distribution  $N(75,10^2)$  \n",
    "  * the other half is \"strong\": normal distribution $N(90,10^2)$\n",
    "\n",
    "### Simulate data and replicate workflow\n",
    "\n",
    "**$\\Diamond$ Question 9:** Write a program using Python to simulate grades and GPA with the above properties.  \n",
    "*Advice: you are strongly encouraged to define reusable functions for this exercise.* Here is an example of a function that returns the absolute value of a number: \n",
    "\n",
    "```python\n",
    "    def absolute(x):\n",
    "        if x < 0:\n",
    "            return -x\n",
    "        else:\n",
    "            return x\n",
    "```"
   ]
  },
  {
   "cell_type": "code",
   "execution_count": 16,
   "metadata": {},
   "outputs": [],
   "source": [
    "# enter code for question 9\n",
    "from scipy.stats import skewnorm\n",
    "\n",
    "def simulate():\n",
    "    \n",
    "    intro = np.random.normal(90, 5)\n",
    "    while intro < 0 or intro > 100:\n",
    "        intro = np.random.normal(90, 5)\n",
    "    \n",
    "    data = np.random.normal(85, 10)\n",
    "    while data < 0 or data > 100:\n",
    "        data = np.random.normal(85, 10)\n",
    "        \n",
    "    software = np.random.normal(90, 5) \n",
    "    if np.random.binomial(1, 0.3) else np.random.normal(65, 5)\n",
    "    while software < 0 or software > 100:\n",
    "        software = np.random.normal(90, 5) \n",
    "        if np.random.binomial(1, 0.3) else np.random.normal(65, 5)\n",
    "        \n",
    "    algo = data + np.random.uniform(-10, 10)\n",
    "    while algo < 0 or algo > 100:\n",
    "        algo = data + np.random.uniform(-10, 10)\n",
    "    \n",
    "    i = np.random.uniform(0, 1)\n",
    "    if (i < 0.03):\n",
    "        organizations = np.random.normal(95, 5)\n",
    "    if (i < 0.13):\n",
    "        organizations = np.random.normal(60, 15)\n",
    "    else:\n",
    "        organizations = np.random.normal(75, 15)\n",
    "    while organizations < 0 or organizations > 100:\n",
    "        i = np.random.uniform(0, 1)\n",
    "        if (i < 0.03):\n",
    "            organizations = np.random.normal(95, 5)\n",
    "        if (i < 0.13):\n",
    "            organizations = np.random.normal(60, 15)\n",
    "        else:\n",
    "            organizations = np.random.normal(75, 15)\n",
    "    \n",
    "    os = skewnorm.rvs(a=10, loc=80, scale=5)\n",
    "    while os < 0 or os > 100:\n",
    "        os = skewnorm.rvs(a=10, loc=80, scale=5)\n",
    "        \n",
    "    gpa = np.random.normal(90, 10) if np.random.binomial(1, 0.5) \n",
    "    else np.random.normal(75, 10)\n",
    "    while gpa < 0 or gpa > 100:\n",
    "        gpa = np.random.normal(90, 10) if np.random.binomial(1, 0.5) \n",
    "        else np.random.normal(75, 10)\n",
    "        \n",
    "    return [intro, data, software, os, algo, organizations, gpa]\n"
   ]
  },
  {
   "cell_type": "markdown",
   "metadata": {},
   "source": [
    "**$\\Diamond$ Question 10:** Generate a random sample of 10000 applicants, and save these grades into a new csv file, prefixing each applicant with their id (e.g. `'cs09320'`). Run the algorithms of Part 1 on this new dataset.  "
   ]
  },
  {
   "cell_type": "code",
   "execution_count": 17,
   "metadata": {},
   "outputs": [],
   "source": [
    "import csv\n",
    "with open('new_CS_data.csv', 'w') as csv_file:\n",
    "    writer = csv.writer(csv_file, delimiter=',', quoting=csv.QUOTE_MINIMAL)\n",
    "    writer.writerow(list(df.columns.values))\n",
    "    for i in range(0, 10000):\n",
    "        row = ['cs'+ str(i).zfill(5)]\n",
    "        row.extend(simulate())\n",
    "        writer.writerow(row)"
   ]
  },
  {
   "cell_type": "code",
   "execution_count": 18,
   "metadata": {},
   "outputs": [],
   "source": [
    "# run the Part I algorithms \n",
    "df2 = pd.read_csv('new_CS_data.csv')"
   ]
  },
  {
   "cell_type": "code",
   "execution_count": 29,
   "metadata": {
    "scrolled": false
   },
   "outputs": [
    {
     "data": {
      "image/png": "[encoded data removed]",
      "text/plain": [
       "<Figure size 1080x1800 with 8 Axes>"
      ]
     },
     "metadata": {
      "needs_background": "light"
     },
     "output_type": "display_data"
    }
   ],
   "source": [
    "# plot the synthetic data\n",
    "fig, axes = plt.subplots(nrows=4, ncols = 2, figsize=(15,25))\n",
    "for i in range(1, 8):\n",
    "    df2[df2.columns.values[i]].hist(ax=axes[(i-1)//2, (i-1)%2], \n",
    "                                    bins=range(50, 101, 1))\n",
    "    axes[(i-1)//2, (i-1)%2].set_xlabel('Applicants')\n",
    "    axes[(i-1)//2, (i-1)%2].set_ylabel('Counts')\n",
    "    axes[(i-1)//2, (i-1)%2].set_title('Histgram of '+df2.columns.values[i])"
   ]
  },
  {
   "cell_type": "code",
   "execution_count": 20,
   "metadata": {},
   "outputs": [
    {
     "name": "stdout",
     "output_type": "stream",
     "text": [
      "[3787, 4170, 174, 6631, 55]\n",
      "[37.87, 41.699999999999996, 1.7399999999999998, 66.31, 0.5499999999999999]\n"
     ]
    }
   ],
   "source": [
    "# originally proposed algorithm\n",
    "gpa_cut2 = df2.loc[df2['GPA'] >= 85]\n",
    "min_cut2 = df2.loc[df2.iloc[:, 1:7].min(axis = 1) >= 65]\n",
    "four_course_cut2 = df2.loc[df2.apply(check_85, axis=1)]\n",
    "ave_cut2 = df2.loc[df2.apply(check_average, axis=1)]\n",
    "\n",
    "summary_cuts([gpa_cut2, min_cut2, four_course_cut2, ave_cut2], df2)"
   ]
  },
  {
   "cell_type": "code",
   "execution_count": 21,
   "metadata": {},
   "outputs": [
    {
     "name": "stdout",
     "output_type": "stream",
     "text": [
      "[3849, 4469, 3787, 3772, 603]\n",
      "[38.49, 44.690000000000005, 37.87, 37.72, 6.03]\n"
     ]
    }
   ],
   "source": [
    "# new algorithm\n",
    "min_cut_new2 = df2.loc[df2.apply(check_min, axis=1)]\n",
    "quantile_90_2 = df2.quantile(0.9, 0)\n",
    "best_cut_new2 = df2.loc[df2.apply(check_best,args=(quantile_90_2, ), axis=1)]\n",
    "f_quantile_2 = df2.quantile(0.25, 0)\n",
    "mean_cut_new2 = df2.loc[df2.apply(check_mean, args=(f_quantile_2, ), axis=1)]\n",
    "\n",
    "summary_cuts([min_cut_new2, best_cut_new2, gpa_cut2, mean_cut_new2], df2)"
   ]
  },
  {
   "cell_type": "markdown",
   "metadata": {},
   "source": [
    "### Limitations \n",
    "**$\\Diamond$ Question 11:** Comment on the potential limitations of the above approach to generating synthetic data.\n",
    "\n",
    "<br>\n",
    "<br>"
   ]
  },
  {
   "cell_type": "markdown",
   "metadata": {},
   "source": [
    "# Answer for question 11\n",
    "\n",
    "- The generated grades are floating numbers instead of integers. \n",
    "- There is no exceptional data, we cannot test the ability that the algorithm handles exceptions and abnormal data points.\n",
    "- The generated synthetic data is still based on the distributions of the original dataset, a similar result should be obtained.\n"
   ]
  },
  {
   "cell_type": "markdown",
   "metadata": {},
   "source": [
    "*** \n",
    "## Part 3. Reflections\n",
    "\n",
    "Now that you feel good about your algorithm, let's highlight some of those applicants and reveal the stories between them. \n",
    "\n",
    "> **Story 1: Misread the Instructions**  \n",
    "What if an excellent applicant thinks they should put in letter grades?\n",
    ">\n",
    "> `[‘A’, ‘A’, ‘A’, ‘A’, ‘A’, ‘A’, ‘A’]`\n",
    ">\n",
    "> … or how about their grades on 4-point scale?\n",
    ">\n",
    "> `[4, 3.9, 4, 4, 3.95, 4, 3.9]`\n",
    "\n",
    "> **Story 2: Bad Assumptions**  \n",
    "> What if one of your applicants skipped Intro to Computer Science? When they saw your form, they froze, and decided that putting -1 in the input field would make it obvious…\n",
    ">\n",
    "> `[-1, 95, 99, 94, 96, 98, 95]`\n",
    "\n",
    "> **Story 3: Mistake in the Input**  \n",
    "> What if one of your applicants accidentally put in a number > 100?\n",
    ">\n",
    "> `[681, 68, 73, 70, 81, 91, 59]`\n",
    ">\n",
    "> That might seem easy enough for a program to catch, but what if they accidentally dropped a 0?\n",
    ">\n",
    "> `[100, 100, 100, 100, 100, 100, 10]`\n",
    ">\n",
    "> A person would catch that mistake easily, does your algorithm?\n",
    "\n",
    "> **Story 4: The Awful Semester**  \n",
    "> What if your applicant had a medical emergency one semester? Or a personal tragedy?\n",
    ">\n",
    "> `[95, 93, 50, 91, 98, 90, 90]`\n",
    "\n",
    "> **Story 5: Inverse Trajectories**  \n",
    "> What if one of your applicants came from an underprivileged background and really struggled at the beginning of college… but showed extraordinary growth by the end?\n",
    "> \n",
    "> `[65, 75, 85, 95, 100, 100, 80]`\n",
    "> \n",
    "> What if one of your applicants came to college with extraordinary potential? They easily aced their first few classes and then gradually grew apathetic about their education - getting nothing but barely-passing grades by the time they were a senior?\n",
    "> \n",
    "> `[100, 100, 95, 85, 75, 65, 80]`\n",
    "> \n",
    "> Does your algorithm treat them equally? \n",
    "\n",
    "<br>\n",
    "\n",
    "\n",
    "**$\\Diamond$ Question 12:**  For each of the above stories, reflect on whether you think that your algorithm does the right thing. If not, how could you improve it? Explain what you would change in a few sentences.   "
   ]
  },
  {
   "cell_type": "markdown",
   "metadata": {},
   "source": [
    "# Answer for question 12\n",
    "Story 1-3 are similar, where the applicant makes an error in uploading their marks.\n",
    "- Story 1: my algorithm cannot handle this case. Since a letter will make the data frame type becomes Object, my algorithm should check each data after importing, and convert the letter grade to the numeric grade, but to the lower bound as a penalty. For grades lower than 4, I'll convert them to appropriate 100-scale by multiple 25. \n",
    "- Story 2: my algorithm cannot handle this case. I'll select all rows with one and only one -1 values and take them aside for further investigation.\n",
    "- Story 3: my algorithm cannot handle this case. The check will be done along with checks in story 1, multiple grades below 10 by 10 and divide grades over 500 by 10. \n",
    "\n",
    "Story 4 and 5 are similar considerations.\n",
    " - Story 4 is not handled by the algorithm and will not be handled. Applicants in story 4 is likely to be influenced by cut 1 in my algorithm, but cut 1 is a minimum cut that are mandatory to all applicants, consider the huge number of applicants. \n",
    " - Story 5 is not handled by the algorithm. To imporve, a new cut can be added, the new cut will calculate a weighted mean, where introductory level course will have a lower weight and higher grade courses will have a higher weight, in consideration of their importance and difficulties. Then, we can have a more fair considerations."
   ]
  },
  {
   "cell_type": "markdown",
   "metadata": {},
   "source": [
    "**$\\Diamond$ Question 13:** Explain what precautions for writing such an automated selection algorithm should be taken in a real setting and why."
   ]
  },
  {
   "cell_type": "markdown",
   "metadata": {},
   "source": [
    "# Answer for question 13\n",
    "\n",
    "- Even the algorithm is perfect, there are still possible special cases we cannot handle. Hence we may risk in losing some valuable applicants. \n",
    "- The automated selection will work better on quantitative data. It can be used to remove applicants that cannot make the minimum requirements. However, it may not be a good way for making the final decision. \n",
    "- For the risk of losing some valuable applicants, the automated selection process may consider keeping the exceptional data, this allows some further investigations if the selected applicants are not enough."
   ]
  },
  {
   "cell_type": "markdown",
   "metadata": {},
   "source": [
    "### Bonus Question (worth up to 2 extra points)\n",
    "\n",
    "**$\\Diamond$ Question 14:** Implement the changes to your algorithm to properly account for the different stories above. To put your solution to test, tweak the csv file manually to introduce some cases above, and make sure you take note of what participant has what story for validation.\n",
    "<br>\n",
    "<br>"
   ]
  },
  {
   "cell_type": "code",
   "execution_count": 22,
   "metadata": {},
   "outputs": [],
   "source": [
    "# code for bonus question \n",
    "\n",
    "# create a new csv file for story 1-3\n",
    "# function for story 1-3\n",
    "def isfloat(value):\n",
    "  try:\n",
    "    float(value)\n",
    "    return True\n",
    "  except ValueError:\n",
    "    return False\n",
    "\n",
    "def convert(cell):\n",
    "    cell = str(cell)\n",
    "    letter_convert = {'A+': 90, 'A': 85, 'A-': 80, \n",
    "                      'B+': 77, 'B': 73, 'B-': 70, \n",
    "                      'C+': 67, 'C': 63, 'C-': 60, \n",
    "                      'D+': 57, 'D': 53, 'D-': 50}\n",
    "    if cell[0:2] == 'cs':\n",
    "        return cell\n",
    "    elif isfloat(cell):\n",
    "        cell = float(cell)\n",
    "        if cell == -1.0:\n",
    "            return -1\n",
    "        elif cell <= 4:\n",
    "            return int(cell*25)\n",
    "        elif cell < 10:\n",
    "            return int(cell*10)\n",
    "        elif cell > 500:\n",
    "            return int(cell//10)\n",
    "        elif cell > 100 and cell < 200:\n",
    "            return int(float(str(cell)[1:]))\n",
    "        else:\n",
    "            return int(cell)\n",
    "    else:\n",
    "        return letter_convert.get(cell, -1)\n",
    "    \n",
    "# function for strory 4-5\n",
    "def weighted_ave(row):\n",
    "    ave = 0\n",
    "    for i in range(1, 7):\n",
    "        ave += (row[i]*(0.75 + 0.1*i))/6\n",
    "    return ave > 90"
   ]
  },
  {
   "cell_type": "code",
   "execution_count": 23,
   "metadata": {},
   "outputs": [
    {
     "data": {
      "text/html": [
       "<div>\n",
       "<style scoped>\n",
       "    .dataframe tbody tr th:only-of-type {\n",
       "        vertical-align: middle;\n",
       "    }\n",
       "\n",
       "    .dataframe tbody tr th {\n",
       "        vertical-align: top;\n",
       "    }\n",
       "\n",
       "    .dataframe thead th {\n",
       "        text-align: right;\n",
       "    }\n",
       "</style>\n",
       "<table border=\"1\" class=\"dataframe\">\n",
       "  <thead>\n",
       "    <tr style=\"text-align: right;\">\n",
       "      <th></th>\n",
       "      <th>ID</th>\n",
       "      <th>Intro to CS</th>\n",
       "      <th>Data structure</th>\n",
       "      <th>Software engineering</th>\n",
       "      <th>Operative systems</th>\n",
       "      <th>Algorithms</th>\n",
       "      <th>Computer organization</th>\n",
       "      <th>GPA</th>\n",
       "    </tr>\n",
       "  </thead>\n",
       "  <tbody>\n",
       "    <tr>\n",
       "      <th>0</th>\n",
       "      <td>cs0098</td>\n",
       "      <td>A</td>\n",
       "      <td>B</td>\n",
       "      <td>A+</td>\n",
       "      <td>A</td>\n",
       "      <td>A-</td>\n",
       "      <td>B</td>\n",
       "      <td>A-</td>\n",
       "    </tr>\n",
       "    <tr>\n",
       "      <th>1</th>\n",
       "      <td>cs0099</td>\n",
       "      <td>4</td>\n",
       "      <td>3.7</td>\n",
       "      <td>3.4</td>\n",
       "      <td>3.3</td>\n",
       "      <td>3.5</td>\n",
       "      <td>3.9</td>\n",
       "      <td>3.9</td>\n",
       "    </tr>\n",
       "    <tr>\n",
       "      <th>2</th>\n",
       "      <td>cs0101</td>\n",
       "      <td>-1</td>\n",
       "      <td>88</td>\n",
       "      <td>86</td>\n",
       "      <td>85</td>\n",
       "      <td>63</td>\n",
       "      <td>74</td>\n",
       "      <td>86</td>\n",
       "    </tr>\n",
       "    <tr>\n",
       "      <th>3</th>\n",
       "      <td>cs0102</td>\n",
       "      <td>94</td>\n",
       "      <td>900</td>\n",
       "      <td>59</td>\n",
       "      <td>83</td>\n",
       "      <td>80</td>\n",
       "      <td>74</td>\n",
       "      <td>95</td>\n",
       "    </tr>\n",
       "    <tr>\n",
       "      <th>4</th>\n",
       "      <td>cs0103</td>\n",
       "      <td>88</td>\n",
       "      <td>9</td>\n",
       "      <td>61</td>\n",
       "      <td>82</td>\n",
       "      <td>190</td>\n",
       "      <td>71</td>\n",
       "      <td>57</td>\n",
       "    </tr>\n",
       "  </tbody>\n",
       "</table>\n",
       "</div>"
      ],
      "text/plain": [
       "       ID Intro to CS Data structure Software engineering Operative systems  \\\n",
       "0  cs0098           A              B                   A+                 A   \n",
       "1  cs0099           4            3.7                  3.4               3.3   \n",
       "2  cs0101          -1             88                   86                85   \n",
       "3  cs0102          94            900                   59                83   \n",
       "4  cs0103          88              9                   61                82   \n",
       "\n",
       "  Algorithms Computer organization  GPA  \n",
       "0         A-                     B   A-  \n",
       "1        3.5                   3.9  3.9  \n",
       "2         63                    74   86  \n",
       "3         80                    74   95  \n",
       "4        190                    71   57  "
      ]
     },
     "execution_count": 23,
     "metadata": {},
     "output_type": "execute_result"
    }
   ],
   "source": [
    "df_tweak = pd.read_csv('tweak_CS_data.csv')\n",
    "# CS0098 is for Story 1 case 1\n",
    "# CS0099 is for Story 1 case 2\n",
    "# CS0101 is for Story 2\n",
    "# CS0103 is for Story 3\n",
    "df_tweak"
   ]
  },
  {
   "cell_type": "code",
   "execution_count": 24,
   "metadata": {},
   "outputs": [
    {
     "data": {
      "text/html": [
       "<div>\n",
       "<style scoped>\n",
       "    .dataframe tbody tr th:only-of-type {\n",
       "        vertical-align: middle;\n",
       "    }\n",
       "\n",
       "    .dataframe tbody tr th {\n",
       "        vertical-align: top;\n",
       "    }\n",
       "\n",
       "    .dataframe thead th {\n",
       "        text-align: right;\n",
       "    }\n",
       "</style>\n",
       "<table border=\"1\" class=\"dataframe\">\n",
       "  <thead>\n",
       "    <tr style=\"text-align: right;\">\n",
       "      <th></th>\n",
       "      <th>ID</th>\n",
       "      <th>Intro to CS</th>\n",
       "      <th>Data structure</th>\n",
       "      <th>Software engineering</th>\n",
       "      <th>Operative systems</th>\n",
       "      <th>Algorithms</th>\n",
       "      <th>Computer organization</th>\n",
       "      <th>GPA</th>\n",
       "    </tr>\n",
       "  </thead>\n",
       "  <tbody>\n",
       "    <tr>\n",
       "      <th>0</th>\n",
       "      <td>cs0098</td>\n",
       "      <td>85</td>\n",
       "      <td>73</td>\n",
       "      <td>90</td>\n",
       "      <td>85</td>\n",
       "      <td>80</td>\n",
       "      <td>73</td>\n",
       "      <td>80</td>\n",
       "    </tr>\n",
       "    <tr>\n",
       "      <th>1</th>\n",
       "      <td>cs0099</td>\n",
       "      <td>100</td>\n",
       "      <td>92</td>\n",
       "      <td>85</td>\n",
       "      <td>82</td>\n",
       "      <td>87</td>\n",
       "      <td>97</td>\n",
       "      <td>97</td>\n",
       "    </tr>\n",
       "    <tr>\n",
       "      <th>2</th>\n",
       "      <td>cs0101</td>\n",
       "      <td>-1</td>\n",
       "      <td>88</td>\n",
       "      <td>86</td>\n",
       "      <td>85</td>\n",
       "      <td>63</td>\n",
       "      <td>74</td>\n",
       "      <td>86</td>\n",
       "    </tr>\n",
       "    <tr>\n",
       "      <th>3</th>\n",
       "      <td>cs0102</td>\n",
       "      <td>94</td>\n",
       "      <td>90</td>\n",
       "      <td>59</td>\n",
       "      <td>83</td>\n",
       "      <td>80</td>\n",
       "      <td>74</td>\n",
       "      <td>95</td>\n",
       "    </tr>\n",
       "    <tr>\n",
       "      <th>4</th>\n",
       "      <td>cs0103</td>\n",
       "      <td>88</td>\n",
       "      <td>90</td>\n",
       "      <td>61</td>\n",
       "      <td>82</td>\n",
       "      <td>90</td>\n",
       "      <td>71</td>\n",
       "      <td>57</td>\n",
       "    </tr>\n",
       "  </tbody>\n",
       "</table>\n",
       "</div>"
      ],
      "text/plain": [
       "       ID  Intro to CS  Data structure  Software engineering  \\\n",
       "0  cs0098           85              73                    90   \n",
       "1  cs0099          100              92                    85   \n",
       "2  cs0101           -1              88                    86   \n",
       "3  cs0102           94              90                    59   \n",
       "4  cs0103           88              90                    61   \n",
       "\n",
       "   Operative systems  Algorithms  Computer organization  GPA  \n",
       "0                 85          80                     73   80  \n",
       "1                 82          87                     97   97  \n",
       "2                 85          63                     74   86  \n",
       "3                 83          80                     74   95  \n",
       "4                 82          90                     71   57  "
      ]
     },
     "execution_count": 24,
     "metadata": {},
     "output_type": "execute_result"
    }
   ],
   "source": [
    "# Apply improvements for Story 1-3\n",
    "df_tweak = df_tweak.applymap(convert)\n",
    "df_tweak"
   ]
  },
  {
   "cell_type": "code",
   "execution_count": 25,
   "metadata": {},
   "outputs": [
    {
     "data": {
      "text/html": [
       "<div>\n",
       "<style scoped>\n",
       "    .dataframe tbody tr th:only-of-type {\n",
       "        vertical-align: middle;\n",
       "    }\n",
       "\n",
       "    .dataframe tbody tr th {\n",
       "        vertical-align: top;\n",
       "    }\n",
       "\n",
       "    .dataframe thead th {\n",
       "        text-align: right;\n",
       "    }\n",
       "</style>\n",
       "<table border=\"1\" class=\"dataframe\">\n",
       "  <thead>\n",
       "    <tr style=\"text-align: right;\">\n",
       "      <th></th>\n",
       "      <th>ID</th>\n",
       "      <th>Intro to CS</th>\n",
       "      <th>Data structure</th>\n",
       "      <th>Software engineering</th>\n",
       "      <th>Operative systems</th>\n",
       "      <th>Algorithms</th>\n",
       "      <th>Computer organization</th>\n",
       "      <th>GPA</th>\n",
       "    </tr>\n",
       "  </thead>\n",
       "  <tbody>\n",
       "    <tr>\n",
       "      <th>0</th>\n",
       "      <td>cs0098</td>\n",
       "      <td>85</td>\n",
       "      <td>73</td>\n",
       "      <td>90</td>\n",
       "      <td>85</td>\n",
       "      <td>80</td>\n",
       "      <td>73</td>\n",
       "      <td>80</td>\n",
       "    </tr>\n",
       "    <tr>\n",
       "      <th>1</th>\n",
       "      <td>cs0099</td>\n",
       "      <td>100</td>\n",
       "      <td>92</td>\n",
       "      <td>85</td>\n",
       "      <td>82</td>\n",
       "      <td>87</td>\n",
       "      <td>97</td>\n",
       "      <td>97</td>\n",
       "    </tr>\n",
       "    <tr>\n",
       "      <th>3</th>\n",
       "      <td>cs0102</td>\n",
       "      <td>94</td>\n",
       "      <td>90</td>\n",
       "      <td>59</td>\n",
       "      <td>83</td>\n",
       "      <td>80</td>\n",
       "      <td>74</td>\n",
       "      <td>95</td>\n",
       "    </tr>\n",
       "    <tr>\n",
       "      <th>4</th>\n",
       "      <td>cs0103</td>\n",
       "      <td>88</td>\n",
       "      <td>90</td>\n",
       "      <td>61</td>\n",
       "      <td>82</td>\n",
       "      <td>90</td>\n",
       "      <td>71</td>\n",
       "      <td>57</td>\n",
       "    </tr>\n",
       "  </tbody>\n",
       "</table>\n",
       "</div>"
      ],
      "text/plain": [
       "       ID  Intro to CS  Data structure  Software engineering  \\\n",
       "0  cs0098           85              73                    90   \n",
       "1  cs0099          100              92                    85   \n",
       "3  cs0102           94              90                    59   \n",
       "4  cs0103           88              90                    61   \n",
       "\n",
       "   Operative systems  Algorithms  Computer organization  GPA  \n",
       "0                 85          80                     73   80  \n",
       "1                 82          87                     97   97  \n",
       "3                 83          80                     74   95  \n",
       "4                 82          90                     71   57  "
      ]
     },
     "execution_count": 25,
     "metadata": {},
     "output_type": "execute_result"
    }
   ],
   "source": [
    "# Take out the speical cases rows (for Story 2)\n",
    "index_to_remove = [row[0] for row in df_tweak.iterrows() if -1 in list(row[1])]\n",
    "df_special = df_tweak.iloc[index_to_remove]\n",
    "df_tweak = df_tweak.drop(index_to_remove, axis='index')\n",
    "df_tweak"
   ]
  },
  {
   "cell_type": "code",
   "execution_count": 26,
   "metadata": {},
   "outputs": [
    {
     "data": {
      "text/html": [
       "<div>\n",
       "<style scoped>\n",
       "    .dataframe tbody tr th:only-of-type {\n",
       "        vertical-align: middle;\n",
       "    }\n",
       "\n",
       "    .dataframe tbody tr th {\n",
       "        vertical-align: top;\n",
       "    }\n",
       "\n",
       "    .dataframe thead th {\n",
       "        text-align: right;\n",
       "    }\n",
       "</style>\n",
       "<table border=\"1\" class=\"dataframe\">\n",
       "  <thead>\n",
       "    <tr style=\"text-align: right;\">\n",
       "      <th></th>\n",
       "      <th>ID</th>\n",
       "      <th>Intro to CS</th>\n",
       "      <th>Data structure</th>\n",
       "      <th>Software engineering</th>\n",
       "      <th>Operative systems</th>\n",
       "      <th>Algorithms</th>\n",
       "      <th>Computer organization</th>\n",
       "      <th>GPA</th>\n",
       "    </tr>\n",
       "  </thead>\n",
       "  <tbody>\n",
       "    <tr>\n",
       "      <th>2</th>\n",
       "      <td>cs0101</td>\n",
       "      <td>-1</td>\n",
       "      <td>88</td>\n",
       "      <td>86</td>\n",
       "      <td>85</td>\n",
       "      <td>63</td>\n",
       "      <td>74</td>\n",
       "      <td>86</td>\n",
       "    </tr>\n",
       "  </tbody>\n",
       "</table>\n",
       "</div>"
      ],
      "text/plain": [
       "       ID  Intro to CS  Data structure  Software engineering  \\\n",
       "2  cs0101           -1              88                    86   \n",
       "\n",
       "   Operative systems  Algorithms  Computer organization  GPA  \n",
       "2                 85          63                     74   86  "
      ]
     },
     "execution_count": 26,
     "metadata": {},
     "output_type": "execute_result"
    }
   ],
   "source": [
    "df_special"
   ]
  },
  {
   "cell_type": "code",
   "execution_count": 27,
   "metadata": {},
   "outputs": [
    {
     "name": "stdout",
     "output_type": "stream",
     "text": [
      "[2685, 1991, 1990, 1783, 2057, 316]\n",
      "[53.7, 39.82, 39.800000000000004, 35.66, 41.14, 6.32]\n"
     ]
    }
   ],
   "source": [
    "# Apply improvements for Story 4-5\n",
    "weight_cut = df.loc[df.apply(weighted_ave, axis=1)]\n",
    "len(weight_cut)\n",
    "# This is the addtional cut being added\n",
    "summary_cuts([min_cut_new, best_cut_new, gpa_cut, mean_cut_new, weight_cut], df)"
   ]
  },
  {
   "cell_type": "markdown",
   "metadata": {},
   "source": [
    "# Answer for bonus question\n",
    "\n",
    "- The tweaked data set contains cases for Story 1-3, CS0098 is for Story 1 case 1, CS0099 is for Story 1 case 2, CS0101 is for Story 2, CS0103 is for Story 3. Then, I convert all of them and take out all applicants with -1. All the normal applicants are store in *df_tweek*, and the applicants with missing grades are in *df_special*.\n",
    "- Story 4 and 5 are improved by the new cut, which applies a weight on the core courses for an average, the weights are Intro to CS: 0.75, Data structure 0.85, Software engineering 0.95 Operative system 1.05, Algorithms 1.15, Computer organization 1.25. As the summary shows, 2057 (41.14%) applicants are selected."
   ]
  }
 ],
 "metadata": {
  "hide_input": false,
  "kernelspec": {
   "display_name": "Python 3",
   "language": "python",
   "name": "python3"
  },
  "language_info": {
   "codemirror_mode": {
    "name": "ipython",
    "version": 3
   },
   "file_extension": ".py",
   "mimetype": "text/x-python",
   "name": "python",
   "nbconvert_exporter": "python",
   "pygments_lexer": "ipython3",
   "version": "3.6.7"
  }
 },
 "nbformat": 4,
 "nbformat_minor": 2
}
