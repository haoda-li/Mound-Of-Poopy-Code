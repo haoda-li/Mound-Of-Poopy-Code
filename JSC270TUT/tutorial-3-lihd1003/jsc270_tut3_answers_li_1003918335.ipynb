{
 "cells": [
  {
   "cell_type": "markdown",
   "metadata": {},
   "source": [
    "# JSC270S - Tutorial \\#3 : Design, Conduct and Analyse a Survey\n",
    "\n",
    "## Profs. F. Chevalier and N. Taback\n",
    "\n",
    "\n",
    "## Date: January 30, 2019\n",
    "## Time: 12:00 - 14:00\n",
    "## Location: BA 3175\n",
    "\n",
    "\n",
    "****\n",
    "## Instructions\n",
    "\n",
    "- This tutorial comprises two parts. <font color='blue'>**In the first part, you will work with a tutorial partner. The second part is individual.**</font>\n",
    "\n",
    "- Make a copy of this notebook.\n",
    "\n",
    "- The notebook should be named: jsc270_tut3_answers_lastname_studentnumber, where \"lastname\" is your last name, and \"studentnumber\" is your UofT student number. <font color='blue'>**While you will work in pairs during the tutorial, both of your team members should commit the same notebook in their Github classroom repositority separately.**.</font>\n",
    "\n",
    "- Answer the questions in the cells that indicate where your answers should be placed. Leave the initial comment in the code cell and heading (indicated by `# Answer for qustion XX`).  For example, place your answer for Question 1 in the markdown cell with comment `# Enter your answer for Question 1 into this cell` (remember not to delete this comment).\n",
    "\n",
    "- Make sure that you explain your solutions when asked and comment your code. \n",
    "\n",
    "- Commit and push changes to the Github classroom repository that has been provided (more details below).\n",
    "\n",
    "\n",
    "### What should be submitted?\n",
    "\n",
    "- One *Jupyter notebook* using Python that contains all the data analyses. Make sure to comment your code in the code cells.\n",
    "\n",
    "- Additional files that your notebook requires to compile properly (e.g. a data file).\n",
    "\n",
    "- <font color='blue'>**csv file(s) with participants' answers to your survey**</font>\n",
    "\n",
    "- A pdf of your Jupyter notebook exported as a pdf file.  This can be done using [`nbconvert`](https://nbconvert.readthedocs.io/en/latest/install.html).\n",
    "\n",
    "\n",
    "### When should it be submitted?\n",
    "\n",
    "- **At the end of the tutorial (in-lab tutorial assignment)**: Commit and push your notebook to the Github classroom repository that contains your answers (i.e., the file named: jsc270_tut1_answers_lastname_studentnumber.ipynb) before 14:10 on the day of the tutorial, January 30. <font color='blue'>**Each group member should submit the group notebook separately.** Make sure you also commit and push all of the **csv file(s) with participants' answers to your survey**.</font>\n",
    "\n",
    "- [`nbdime`](https://nbdime.readthedocs.io/en/latest/) is a Python package that allows you (and the teaching team) to see the changes you have made to your assignment. \n",
    "\n",
    "- **Homework (tutorial assignment completion)**: Push your completed tutorial by 11:30, Monday, February 4.  Your last commit closest to 11:30 will be considered your final assignment.\n",
    "\n",
    "### Where should the assignment be submitted?\n",
    "\n",
    "Push your finished notebook and any other files on Github, through the following link: https://classroom.github.com/a/auWRMyAC\n",
    "\n",
    "Upload the pdf of your answer notebook to the JSC270 course page on Quercus.\n",
    "\n",
    "***\n",
    "\n",
    "## Tutorial Grading\n",
    "\n",
    "Tutorials will be graded according to the following marking scheme.\n",
    "\n",
    "<table>\n",
    "  <tr>\n",
    "    <th></th>\n",
    "    <th>Marks</th>\n",
    "  </tr>\n",
    "  <tr>\n",
    "    <td>Tutorial Participation</td>\n",
    "    <td>5</td>\n",
    "  </tr>\n",
    "  <tr>\n",
    "    <td>Attendance for entire tutorial</td>\n",
    "    <td>5</td>\n",
    "  </tr>\n",
    "  <tr>\n",
    "    <td>In-lab tutorial assignment</td>\n",
    "    <td>20</td>\n",
    "  </tr>\n",
    "  <tr>\n",
    "    <td>Tutorial assignment completion</td>\n",
    "    <td>20</td>\n",
    "  </tr>\n",
    "</table>\n",
    "\n",
    "\n",
    "### Grading Rubric for Tutorial Assignments\n",
    "\n",
    "Tutorial grading rubric is available [here](https://jsc270.github.io/tut_docs.html#tutorial_grading).\n",
    "\n",
    "\n",
    "***\n",
    "\n",
    "## Tutorial objectives\n",
    "The goal of this tutorial is to design and conduct a survey, then analyse the results.\n",
    "\n",
    "\n",
    "****"
   ]
  },
  {
   "cell_type": "markdown",
   "metadata": {},
   "source": [
    "## Widgets in python using ipywidgets\n",
    "\n",
    "\n",
    "The [ipywidgets](https://ipywidgets.readthedocs.io/en/stable/) library supports the definition of widgets to interactively prompt input from the user. You will use such widgets to design a simple fillable form in python.\n",
    "\n",
    "You can install the library using `pip` or `conda`:\n",
    "```python\n",
    "    # using pip\n",
    "    !pip install ipywidgets\n",
    "    \n",
    "    # using conda\n",
    "    !conda install -c conda-forge ipywidgets\n",
    "```    \n",
    "\n",
    "Below, we illustrate how to use `ipywidgets` with an example of a simple form that we designed for people to order meals. Note that nbconvert will not render the widgets in your pdf."
   ]
  },
  {
   "cell_type": "code",
   "execution_count": 133,
   "metadata": {
    "scrolled": false
   },
   "outputs": [
    {
     "name": "stdout",
     "output_type": "stream",
     "text": [
      "\u001b[4m ** YOUR MEAL ORDER ** \u001b[0m \n",
      "\n",
      "\u001b[1m Party details \u001b[0m\n"
     ]
    },
    {
     "data": {
      "application/vnd.jupyter.widget-view+json": {
       "model_id": "3e02c65c1d2d48248e41414f4cb2b256",
       "version_major": 2,
       "version_minor": 0
      },
      "text/plain": [
       "Text(value='<put the contact name here>', description='Name:', placeholder='')"
      ]
     },
     "metadata": {},
     "output_type": "display_data"
    },
    {
     "data": {
      "application/vnd.jupyter.widget-view+json": {
       "model_id": "eeb4cc7b03cb4475a1a68f25aadcddb5",
       "version_major": 2,
       "version_minor": 0
      },
      "text/plain": [
       "BoundedIntText(value=1, description='Guests:', max=5, min=1)"
      ]
     },
     "metadata": {},
     "output_type": "display_data"
    },
    {
     "name": "stdout",
     "output_type": "stream",
     "text": [
      "\u001b[1m When would you like to come? \u001b[0m\n"
     ]
    },
    {
     "data": {
      "application/vnd.jupyter.widget-view+json": {
       "model_id": "e5ed2b812612436898cdefc35ee3ffd9",
       "version_major": 2,
       "version_minor": 0
      },
      "text/plain": [
       "RadioButtons(description='Time:', options=('breakfast', 'lunch', 'dinner'), value='breakfast')"
      ]
     },
     "metadata": {},
     "output_type": "display_data"
    },
    {
     "name": "stdout",
     "output_type": "stream",
     "text": [
      "\u001b[1m How interested are you in hearing about the chef's recommendations? \u001b[0m\n"
     ]
    },
    {
     "data": {
      "application/vnd.jupyter.widget-view+json": {
       "model_id": "057d7fe9c99b4e1daa0556e9f2177df1",
       "version_major": 2,
       "version_minor": 0
      },
      "text/plain": [
       "ToggleButtons(options=('very interested', 'somewhat interested', 'neutral', 'somewhat uninterested', 'not inte…"
      ]
     },
     "metadata": {},
     "output_type": "display_data"
    },
    {
     "name": "stdout",
     "output_type": "stream",
     "text": [
      "\u001b[1m Do you have any dietary restriction? \u001b[0m\n"
     ]
    },
    {
     "data": {
      "application/vnd.jupyter.widget-view+json": {
       "model_id": "9befbe52a4764e9aa4036c2f3bcab683",
       "version_major": 2,
       "version_minor": 0
      },
      "text/plain": [
       "Checkbox(value=False, description='Vegetarian')"
      ]
     },
     "metadata": {},
     "output_type": "display_data"
    },
    {
     "data": {
      "application/vnd.jupyter.widget-view+json": {
       "model_id": "d620d04b7ccd4cf5b7905c90fdcf9580",
       "version_major": 2,
       "version_minor": 0
      },
      "text/plain": [
       "Checkbox(value=False, description='Allergy (peanuts, gluten, ...)')"
      ]
     },
     "metadata": {},
     "output_type": "display_data"
    },
    {
     "data": {
      "application/vnd.jupyter.widget-view+json": {
       "model_id": "f906f627f7744c3cb328876ce533a72e",
       "version_major": 2,
       "version_minor": 0
      },
      "text/plain": [
       "Button(button_style='info', description='Validate', style=ButtonStyle())"
      ]
     },
     "metadata": {},
     "output_type": "display_data"
    }
   ],
   "source": [
    "import ipywidgets as widgets                 ## widget library\n",
    "from IPython.display import display          ## to display the widgets\n",
    "import re                                    ## library for using regular expressions\n",
    "\n",
    "\n",
    "##### Survey: Food order #####\n",
    "\n",
    "## Text field widget to prompt for contact name \n",
    "name = widgets.Text(\n",
    "    value='<put the contact name here>',\n",
    "    placeholder='',\n",
    "    description='Name:',\n",
    "    disabled=False\n",
    ")\n",
    "\n",
    "## Input validation for participant name \n",
    "## we use a regular expression to verify that the entered text in this field doesn't contain special characters\n",
    "## Returns True if text appears valid, else print error and returns false\n",
    "def validate_name(name):\n",
    "    if not re.match(\"^[a-zA-Z]*$\", name):\n",
    "        print(\"Error: There are special characters in your name.\")\n",
    "        return False\n",
    "    return True\n",
    "\n",
    "\n",
    "## Integer value widget to prompt for guests number\n",
    "## the min (and default) value is set to 1 (i.e. the participant)\n",
    "nb = widgets.BoundedIntText(\n",
    "    value=1,\n",
    "    min=1,\n",
    "    max=5,\n",
    "    step=1,\n",
    "    description='Guests:'\n",
    ")\n",
    "\n",
    "\n",
    "## Radio button widget to prompt for a single choice of meal \n",
    "meal = widgets.RadioButtons(\n",
    "    options=['breakfast', 'lunch', 'dinner'],\n",
    "    description='Time:'\n",
    ")\n",
    "\n",
    "## 5-points likert scale to prompt for promotional offers\n",
    "chef = widgets.ToggleButtons(\n",
    "    options=['very interested', 'somewhat interested', 'neutral', 'somewhat uninterested', 'not interested at all'],\n",
    "    button_style=''\n",
    ")\n",
    "\n",
    "\n",
    "## Two checkboxes widgets to prompt for dietery restrictions\n",
    "vegetarian = widgets.Checkbox(\n",
    "    value=False,\n",
    "    description='Vegetarian'\n",
    ")\n",
    "\n",
    "allergy = widgets.Checkbox(\n",
    "    value=False,\n",
    "    description='Allergy (peanuts, gluten, ...)'\n",
    ")\n",
    "\n",
    "\n",
    "## Validation button \n",
    "### Validation of data\n",
    "validate = widgets.Button(\n",
    "    description='Validate',\n",
    "    disabled=False,\n",
    "    button_style='info'   ## blue design\n",
    ")\n",
    "\n",
    "\n",
    "## Function to call when clicking \"validate\" button\n",
    "def on_button_clicked(b):\n",
    "    if (validate_name(name.value)):      ## check if the input data is valid\n",
    "        confirm()                        ## if successful confirm order\n",
    "    \n",
    "def confirm():\n",
    "    ## <this is where you would put some python code to save the data in a file or database>\n",
    "    \n",
    "    print('Thank you for your order. \\n We took record of your reservation request for', \n",
    "           nb.value, 'guests for', time.value, \n",
    "          'under the name of', name.value)\n",
    "    if allergy.value: \n",
    "        print ('Food allergy.')\n",
    "    if vegetarian.value: \n",
    "        print ('Vegetarian meal.')\n",
    "\n",
    "## Specify the function to call upon click even on the validate button \n",
    "validate.on_click(on_button_clicked)\n",
    "\n",
    "   \n",
    "    \n",
    "## This class is used to format text when calling print\n",
    "class font:\n",
    "   BOLD = '\\033[1m'\n",
    "   UNDERLINE = '\\033[4m'\n",
    "   END = '\\033[0m'\n",
    "\n",
    "\n",
    "### Create the form\n",
    "print(font.UNDERLINE, '** YOUR MEAL ORDER **', font.END,'\\n')\n",
    "print(font.BOLD, 'Party details', font.END)\n",
    "display(name)\n",
    "display(nb)\n",
    "print(font.BOLD, 'When would you like to come?', font.END)\n",
    "display(meal)\n",
    "print(font.BOLD, 'How interested are you in hearing about the chef\\'s recommendations?', font.END)\n",
    "display(chef)\n",
    "print(font.BOLD, 'Do you have any dietary restriction?', font.END)\n",
    "display(vegetarian, allergy)\n",
    "display(validate)"
   ]
  },
  {
   "cell_type": "markdown",
   "metadata": {},
   "source": [
    "***\n",
    "# A survey to learn about students taking JSC270\n",
    "\n",
    "We are interested in learning about the students taking the JSC270 course. In this tutorial, we ask you to help us design a survey.\n",
    "\n",
    "In part 1 of the tutorial, you will work in pairs, to design and implement a fillable form to administer the survey, then take your own survey, as well as another group's. In part 2 of the tutorial, you will work individually, to combine and analyze the data collected from all groups.\n",
    "\n",
    "We are interested in learning the following information:\n",
    "\n",
    "* Participant ID (assigned at the beginning of the tutorial)\n",
    "* Demographic data:\n",
    "    * semester born: (Fall-Winter (January - June) or Spring-Summer (July - December))\n",
    "    \n",
    "* Astrological sign?\n",
    "     * Aquarius\n",
    "     * Pisces\n",
    "     * etc ...   \n",
    "     \n",
    "* Among the following list: pizza, pasta, tacos, chicken curry, steak and French fries (steak frites), steamed vegetable dumplings, steamed pork dumplings, ramen noodle soup \n",
    "    * most favourite dish (up to three) and why?\n",
    "    * least favourite dish (up to three) and why?\n",
    "\n",
    "* Which genre of movies do you enjoy?  (Examples could be comedy movies, drama movies, horror movies, etc ...)\n",
    "* How often do you go to the movie theater?\n",
    "* Which genre of music do you enjoy? (Examples could be: classical music, pop music, jazz, etc ...)\n",
    "\n",
    "* Reaction time: reaction time to the [online test](https://www.humanbenchmark.com/tests/reactiontime)\n",
    "\n",
    "* Did you eat a candy less within 10min before taking the reaction time test?\n",
    "***"
   ]
  },
  {
   "cell_type": "markdown",
   "metadata": {},
   "source": [
    "\n",
    "## Part I:  Design and conduct a survey (group work)\n",
    "\n",
    "In this part of the tutorial, you will work in pairs. Choose a partner to work with on Questions 1-5.\n",
    "\n",
    "\n",
    "## Question 1\n",
    "\n",
    "Together with your tutorial partner, decide on the phrasing of each question and associated type of input (i.e. what widget) you will use for collecting information. Explain briefly your choices."
   ]
  },
  {
   "cell_type": "markdown",
   "metadata": {},
   "source": [
    "## Answer for Question 1\n",
    "\n",
    "- ParticipantID: use BoundedIntBox, because the ID is an integer between 1 and 12\n",
    "- Demographic: use Toggle Buttons, because we have to choose one answer from 2 options.\n",
    "- Astrological sign: use radio Buttons, because we have to choose one answer from 12 options\n",
    "- Food: use check boxes allowing choosing multiple options. Use text input for reasons. \n",
    "- Genre of movies: use check boxes, because one person may like multiple genres, and there are a limited number of genres.\n",
    "- How often do you go to the movie theater: use Toggle Buttons, because we have to choose one answer among a limited number of options\n",
    "- Genre of music: use check boxes, because one person may like multiple genres, and there are a limited number of genres.\n",
    "- Reaction time: use BoundedIntBox, because the reaction time is an positive integer\n",
    "- Did you did a candy: use toggle buttons, because we have to choose one answer from 2 options.\n"
   ]
  },
  {
   "cell_type": "markdown",
   "metadata": {},
   "source": [
    "## Question 2\n",
    "\n",
    "Together with your tutorial partner, discuss what tests you can run on the input data to prevent the user from entering corrupt or invalid data. Explain where and why you would add such tests in a few words."
   ]
  },
  {
   "cell_type": "markdown",
   "metadata": {},
   "source": [
    "## Answer for Question 2\n",
    "\n",
    "- ID: int between 1 and 12\n",
    "- For music genre, movie genre, make sure the user selected at most 3 options. Since we don't want the user to pick too many genres\n",
    "- Reaction time: integer greater than 0\n",
    "- Make sure their favourite dishes do not appear in the least favourite dishes, and check the maximum number of chosen options is no more than three. "
   ]
  },
  {
   "cell_type": "markdown",
   "metadata": {},
   "source": [
    "## Question 3\n",
    "\n",
    "Write the python code to create the fillable form you designed above, including input validation methods. \n",
    "\n",
    "When validating the answers, if the participant's input is valid, your code should save their answers into a csv file named jsc270_survey_lastname1_lastname2_participantID, where \"lastname1\" and \"lastname2\" are the lastname of your two group members, and participant ID is the ID the participant entered in the form."
   ]
  },
  {
   "cell_type": "code",
   "execution_count": 134,
   "metadata": {
    "code_folding": [],
    "scrolled": true
   },
   "outputs": [
    {
     "name": "stdout",
     "output_type": "stream",
     "text": [
      "\u001b[1m Your Participant ID\n"
     ]
    },
    {
     "data": {
      "application/vnd.jupyter.widget-view+json": {
       "model_id": "8e950a518b184c14b92b9838fcb881e7",
       "version_major": 2,
       "version_minor": 0
      },
      "text/plain": [
       "BoundedIntText(value=1, description='ParticipantID:', max=12, min=1)"
      ]
     },
     "metadata": {},
     "output_type": "display_data"
    },
    {
     "name": "stdout",
     "output_type": "stream",
     "text": [
      "\u001b[1m Semester born\n"
     ]
    },
    {
     "data": {
      "application/vnd.jupyter.widget-view+json": {
       "model_id": "d359c4c2a8994365ac2663c72ba5046b",
       "version_major": 2,
       "version_minor": 0
      },
      "text/plain": [
       "ToggleButtons(options=('Jan-June', 'July-Dec'), value='Jan-June')"
      ]
     },
     "metadata": {},
     "output_type": "display_data"
    },
    {
     "name": "stdout",
     "output_type": "stream",
     "text": [
      "\u001b[1m Your Astrological sign\n"
     ]
    },
    {
     "data": {
      "application/vnd.jupyter.widget-view+json": {
       "model_id": "914c1aaf66f04428be1f99e569f51460",
       "version_major": 2,
       "version_minor": 0
      },
      "text/plain": [
       "RadioButtons(options=('Aries(March 21 - April 19)', 'Taurus (April 20 - May 20)', 'Gemini (May 21 - June 20)',…"
      ]
     },
     "metadata": {},
     "output_type": "display_data"
    },
    {
     "name": "stdout",
     "output_type": "stream",
     "text": [
      "\u001b[1m Choose your most favorite dish (at most 3) \u001b[0m\n"
     ]
    },
    {
     "data": {
      "application/vnd.jupyter.widget-view+json": {
       "model_id": "b9ca06c2f09c4d458c93c66b39cdf0cf",
       "version_major": 2,
       "version_minor": 0
      },
      "text/plain": [
       "VBox(children=(Checkbox(value=False, description='pizza'), Checkbox(value=False, description='pasta'), Checkbo…"
      ]
     },
     "metadata": {},
     "output_type": "display_data"
    },
    {
     "name": "stdout",
     "output_type": "stream",
     "text": [
      "\u001b[1m Choose your least favorite dishes (at most 3) \u001b[0m\n"
     ]
    },
    {
     "data": {
      "application/vnd.jupyter.widget-view+json": {
       "model_id": "3e621fc9d86e4020a24e8f983103a8f5",
       "version_major": 2,
       "version_minor": 0
      },
      "text/plain": [
       "VBox(children=(Checkbox(value=False, description='pizza'), Checkbox(value=False, description='pasta'), Checkbo…"
      ]
     },
     "metadata": {},
     "output_type": "display_data"
    },
    {
     "name": "stdout",
     "output_type": "stream",
     "text": [
      "\u001b[1m Which genres of movies do you enjoy (at most 3) \u001b[0m\n"
     ]
    },
    {
     "data": {
      "application/vnd.jupyter.widget-view+json": {
       "model_id": "a281bf83b8ba4f1ba71d5ac8de85860e",
       "version_major": 2,
       "version_minor": 0
      },
      "text/plain": [
       "VBox(children=(Checkbox(value=False, description='Comedy'), Checkbox(value=False, description='Action'), Check…"
      ]
     },
     "metadata": {},
     "output_type": "display_data"
    },
    {
     "name": "stdout",
     "output_type": "stream",
     "text": [
      "\u001b[1m How often do you go to the movie theater \u001b[0m\n"
     ]
    },
    {
     "data": {
      "application/vnd.jupyter.widget-view+json": {
       "model_id": "e8bd6122ca0942c8bfe34f5a0e4f2080",
       "version_major": 2,
       "version_minor": 0
      },
      "text/plain": [
       "ToggleButtons(options=('> once a week', 'once a week', '2-3 times/month', 'once a month', '2-3 times/year', '<…"
      ]
     },
     "metadata": {},
     "output_type": "display_data"
    },
    {
     "name": "stdout",
     "output_type": "stream",
     "text": [
      "\u001b[1m Which genres of music do you enjoy (at most 3) \u001b[0m\n"
     ]
    },
    {
     "data": {
      "application/vnd.jupyter.widget-view+json": {
       "model_id": "bd78eec629864192bfb27e9e46f5e6ff",
       "version_major": 2,
       "version_minor": 0
      },
      "text/plain": [
       "VBox(children=(Checkbox(value=False, description='Classical'), Checkbox(value=False, description='Pop'), Check…"
      ]
     },
     "metadata": {},
     "output_type": "display_data"
    },
    {
     "name": "stdout",
     "output_type": "stream",
     "text": [
      "\u001b[1m Reaction time to the online test \u001b[0m\n"
     ]
    },
    {
     "data": {
      "application/vnd.jupyter.widget-view+json": {
       "model_id": "586321ef66d0425d97954385a3391386",
       "version_major": 2,
       "version_minor": 0
      },
      "text/plain": [
       "BoundedIntText(value=1, description='Time (ms): ', max=100000)"
      ]
     },
     "metadata": {},
     "output_type": "display_data"
    },
    {
     "name": "stdout",
     "output_type": "stream",
     "text": [
      "\u001b[1m Did you eat a candy less within 10min before taking the reaction time test?\n"
     ]
    },
    {
     "data": {
      "application/vnd.jupyter.widget-view+json": {
       "model_id": "9005d9ae18fa4779aa877e58dc182936",
       "version_major": 2,
       "version_minor": 0
      },
      "text/plain": [
       "ToggleButtons(options=('YES', 'NO'), value='YES')"
      ]
     },
     "metadata": {},
     "output_type": "display_data"
    },
    {
     "data": {
      "application/vnd.jupyter.widget-view+json": {
       "model_id": "470414c640cd4d81ab1eab28c7edafe9",
       "version_major": 2,
       "version_minor": 0
      },
      "text/plain": [
       "Button(button_style='info', description='Validate and Confirm', style=ButtonStyle())"
      ]
     },
     "metadata": {},
     "output_type": "display_data"
    }
   ],
   "source": [
    "## Write the code for question 3 here\n",
    "\n",
    "import csv\n",
    "from ipywidgets import VBox\n",
    "\n",
    "class font:\n",
    "   BOLD = '\\033[1m'\n",
    "   UNDERLINE = '\\033[4m'\n",
    "   END = '\\033[0m'\n",
    "\n",
    "def on_button_clicked(b):\n",
    "    leastCon = [check.value for check in leastGroup]\n",
    "    mostCon = [check.value for check in mostGroup]\n",
    "    movCon = [mov_genre[i] for i in range(len(mov_genre)) if mov_group[i].value]\n",
    "    musCon = [mus_genre[i] for i in range(len(mus_genre)) if mus_group[i].value]\n",
    "\n",
    "    if sum(mostCon) > 3:\n",
    "        print(\"You can't like over 3 dishes\")\n",
    "        return\n",
    "    elif sum(leastCon) > 3:\n",
    "        print(\"You can't hate over 3 dishes\")\n",
    "        return\n",
    "    elif len(movCon) > 3 or len(musCon) > 3:\n",
    "        print(\"You can't choose over 3 genres\")\n",
    "        return\n",
    "    elif sum([leastCon[i] and mostCon[i] for i in range(len(leastCon))]) > 0:\n",
    "        print(\"You can't like and hate a dish at the same time.\")\n",
    "        return\n",
    "    \n",
    "    least_list = [food_list[i] for i in range(len(food_list)) if leastCon[i]]\n",
    "    most_list = [food_list[i] for i in range(len(food_list)) if mostCon[i]]\n",
    "    newline = [str(id.value),\n",
    "               dem.value,\n",
    "               ast.value,\n",
    "               '|'.join(movCon),\n",
    "               often_mov.value, \n",
    "               '|'.join(musCon),\n",
    "               r_t.value,\n",
    "               candy.value,\n",
    "               '|'.join(most_list),\n",
    "               '|'.join(least_list)]\n",
    "    \n",
    "    with open('jsc270_survey_li_li_yan_'+str(id.value)+'.csv','w') as csvfile:\n",
    "        writer = csv.writer(csvfile, delimiter=',')\n",
    "        writer.writerow(newline)\n",
    "    print('Thanks for your respond')\n",
    "    return\n",
    "\n",
    "# ID\n",
    "id = widgets.BoundedIntText(\n",
    "    min=1,\n",
    "    max=12,\n",
    "    step=1,\n",
    "    description='ParticipantID:'\n",
    ")\n",
    "\n",
    "# demographic\n",
    "ast = widgets.RadioButtons(\n",
    "    options= ['Aries(March 21 - April 19)',\n",
    "              'Taurus (April 20 - May 20)',\n",
    "              'Gemini (May 21 - June 20)',\n",
    "              'Cancer (June 21 - July 22)',\n",
    "              'Leo (July 23 - August 22)',\n",
    "              'Virgo (August 23 - September 22)',\n",
    "              'Libra (September 23 - October 22)',\n",
    "              'Scorpio (October 23 - November 21)',\n",
    "              'Sagittarius (November 22 - December 21)',\n",
    "              'Capricorn (December 22 - January 19)',\n",
    "              'Aquarius (January 20 - February 18)',\n",
    "              'Pisces (February 19 - March 20)'],\n",
    ")\n",
    "\n",
    "# Astrological sign\n",
    "dem = widgets.ToggleButtons(\n",
    "    options=['Jan-June', 'July-Dec'],\n",
    "    button_style=''\n",
    ")\n",
    "\n",
    "# food \n",
    "food_list = ('pizza, pasta, tacos, chicken curry, steak and French fries (steak frites),' + \\\n",
    "' steamed vegetable dumplings, steamed pork dumplings, ramen noodle soup').split(\", \")\n",
    "leastGroup = [widgets.Checkbox(description=food) for food in food_list]\n",
    "mostGroup = [widgets.Checkbox(description=food) for food in food_list]\n",
    "\n",
    "# candy\n",
    "candy = widgets.ToggleButtons(\n",
    "    options=['YES', 'NO'],\n",
    "    button_style=''\n",
    ")\n",
    "\n",
    "# validation\n",
    "validate = widgets.Button(\n",
    "    description='Validate and Confirm',\n",
    "    disabled=False,\n",
    "    button_style='info',\n",
    ")\n",
    "validate.on_click(on_button_clicked)\n",
    "\n",
    "# movie genre\n",
    "mov_genre = ['Comedy', 'Action', 'Adventure', \n",
    "             'Crime & Gangster', 'Drama', 'Horror',\n",
    "             'Musicals/Dance', 'Science Fiction', \n",
    "             'Animation', 'Others']\n",
    "mov_group = [widgets.Checkbox(description=g) for g in mov_genre]\n",
    "\n",
    "# movie often\n",
    "often_mov = widgets.ToggleButtons(\n",
    "    options=['> once a week', 'once a week', '2-3 times/month', 'once a month',\n",
    "             '2-3 times/year', '< 2-3 times/year', 'Never been there'],\n",
    "    button_style=''\n",
    ")\n",
    "\n",
    "# music genre\n",
    "mus_genre = ['Classical', 'Pop', 'Hip hop', \n",
    "             'Blues', 'Jazz', 'Rock',\n",
    "             'Country', 'Funk', 'Others']\n",
    "mus_group = [widgets.Checkbox(description=g) for g in mus_genre]\n",
    "\n",
    "# reaction time\n",
    "r_t = widgets.BoundedIntText(\n",
    "    value=1,\n",
    "    min=0,\n",
    "    max=100000,\n",
    "    description='Time (ms): '\n",
    ")\n",
    "\n",
    "\n",
    "# display\n",
    "print(font.BOLD,'Your Participant ID')\n",
    "display(id)\n",
    "\n",
    "print(font.BOLD, 'Semester born')\n",
    "display(dem)\n",
    "\n",
    "print(font.BOLD, 'Your Astrological sign')\n",
    "display(ast)\n",
    "\n",
    "print(font.BOLD, 'Choose your most favorite dish (at most 3)', font.END)\n",
    "display(VBox(mostGroup))\n",
    "print(font.BOLD, 'Choose your least favorite dishes (at most 3)', font.END)\n",
    "display(VBox(leastGroup))\n",
    "\n",
    "print(font.BOLD, 'Which genres of movies do you enjoy (at most 3)', font.END)\n",
    "display(VBox(mov_group))\n",
    "\n",
    "print(font.BOLD, 'How often do you go to the movie theater', font.END)\n",
    "display(often_mov)\n",
    "\n",
    "print(font.BOLD, 'Which genres of music do you enjoy (at most 3)', font.END)\n",
    "display(VBox(mus_group))\n",
    "\n",
    "print(font.BOLD, 'Reaction time to the online test', font.END)\n",
    "display(r_t)\n",
    "\n",
    "print(font.BOLD,'Did you eat a candy less within 10min before taking the reaction time test?')\n",
    "display(candy)\n",
    "\n",
    "display(validate)"
   ]
  },
  {
   "cell_type": "markdown",
   "metadata": {},
   "source": [
    "## Question 4\n",
    "Take your own survey and save the data in a csv file. In the cell below, document the data collection method (i.e. specification of the data file) for a third party to understand the context and limitations of the data.\n"
   ]
  },
  {
   "cell_type": "markdown",
   "metadata": {},
   "source": [
    "## Answer for Question 4\n",
    "\n",
    "- Each data cell is separated by \",\"\n",
    "- The stored data is: participantID, semester born, astrological sign, most favorite food, least favorite food, reason, movie genres, frequency of movie watching, music genres, response time, did you each candy before the response time test.\n",
    "- For favorite food, least favorite food, movie genres, music genres, each food or genre is separated by \"|\""
   ]
  },
  {
   "cell_type": "markdown",
   "metadata": {},
   "source": [
    "## Question 5\n",
    "\n",
    "Take your neighbour's survey. While taking the other group's survey, take note of the differences in the way the other group designed their survey compared to your group. Comment on the pros and cons of the different ways of collecting the same pieces of information. (It is possible that their are no differences)."
   ]
  },
  {
   "cell_type": "markdown",
   "metadata": {},
   "source": [
    "## Answer for Question 5\n",
    "\n",
    "- One group uses a slide bar for the frequency of movie watching. It's more intuitive to use a slide bar for frequency related questions.\n",
    "- One group uses text input for favorite movie genre and music genre. It gives more freedom in choosing the favorite genres. However, the collected data is harder to analyze. \n",
    "- One group uses 3 drop down widgets for choosing favorite food. It easily limits the maximum number of choices, while it will take longer time to choose.\n"
   ]
  },
  {
   "cell_type": "markdown",
   "metadata": {},
   "source": [
    "***\n",
    "\n",
    "# Part II: Analyze the data (individual work)\n",
    "\n",
    "In this part of the tutorial, you will work individually. We will send everyone the data files generated during the tutorial. "
   ]
  },
  {
   "cell_type": "markdown",
   "metadata": {},
   "source": [
    "## Question 6\n",
    "\n",
    "Combine and reconcile the different files into a single uniform data frame containing all of the collected information. "
   ]
  },
  {
   "cell_type": "code",
   "execution_count": 135,
   "metadata": {},
   "outputs": [],
   "source": [
    "### Write the code for Question 6 below\n",
    "import os\n",
    "import numpy as np\n",
    "import pandas as pd\n",
    "import matplotlib.pyplot as plt\n",
    "\n",
    "\n",
    "def clean_li(df, fileName):\n",
    "    if sum([i in fileName for i in ['8', '9']]) != 0:\n",
    "        df[10] = np.nan\n",
    "        df[11] = np.nan\n",
    "        df = df[[0, 1, 2, 8, 10, 9, 11, 3, 4, 5, 6, 7]]\n",
    "    else:\n",
    "        df[11] = np.nan\n",
    "        if '3' in fileName:\n",
    "            df = df[[0, 1, 2, 8, 11, 10, 9, 3, 4, 5, 6, 7]]\n",
    "        else:\n",
    "            df = df[[0, 1, 2, 3, 11, 4, 5, 6, 7, 8, 9, 10]]\n",
    "    for i in [3, 5, 7, 9]:\n",
    "        try:\n",
    "            df.iat[0, i] = str(df.iat[0, i]).split(\"|\")\n",
    "        except ValueError:\n",
    "            df.iat[0, i] = np.nan\n",
    "    df.columns = ['pid', 'semester', 'ast', \n",
    "                  'favorite food', 'reason like', 'least favorite food', 'reason dislike',\n",
    "                  'movie genres', 'theater vist', 'music genres', 'reaction time', \n",
    "                  'candy']\n",
    "    return df\n",
    "\n",
    "fileNames = os.listdir('data/')\n",
    "\n",
    "data = pd.DataFrame()\n",
    "for name in fileNames: \n",
    "    if 'Goldstein_Wang' in name:\n",
    "        df = pd.read_csv('data/' + name, header=0, delimiter='\\t')\n",
    "        df.iat[0, 2] = df.iat[0, 2][: df.iat[0, 2].index(' (')]\n",
    "        for i in [3, 5, 7, 9]:\n",
    "            df.iat[0,i] = df.iat[0, i][1: -1].replace(\"'\", \"\").split(\", \")\n",
    "        df.columns = ['pid', 'semester', 'ast', 'favorite food', 'reason like', 'least favorite food', 'reason dislike',\n",
    "                      'movie genres', 'theater vist', 'music genres', 'reaction time', 'candy']\n",
    "    elif 'huang_huang' in name:\n",
    "        df = pd.read_csv('data/' + name, header=0, delimiter=',')\n",
    "        df.iat[0,1] = df.iat[0, 1][df.iat[0,1].index('(') + 1: -1]\n",
    "        for i in [3, 5, 9]:\n",
    "            string = df.iat[0, i][1: -2].replace(\"'\",'')\n",
    "            df.iat[0,i] = string.split(',')\n",
    "        movie_genre = 'Comedy, Drama, Horror, Action, Crime, Romance, Other'.split(', ')\n",
    "        df.iat[0, 7] = [movie_genre[i] for i in range(len(movie_genre)) if df.iat[0, 7][1:-1].split(', ')[i]=='True']\n",
    "        df.columns = ['pid', 'semester', 'ast', \n",
    "                      'favorite food', 'reason like', 'least favorite food', 'reason dislike',\n",
    "                      'movie genres', 'theater vist', 'music genres', 'reaction time', \n",
    "                      'candy']\n",
    "    elif 'li_li_yan' in name:\n",
    "        df = pd.read_csv('data/' + name, header=None, delimiter=',')\n",
    "        df = clean_li(df, name)\n",
    "    else:\n",
    "        df = pd.read_csv('data/' + name, header=0, delimiter=',')\n",
    "        df['favorite food'] = [[i for i in df.iloc[0, [4, 5, 6]] if i != 'not among them']]\n",
    "        df['least favorite food'] = [[i for i in df.iloc[0, [8, 9, 10]] if i != 'not among them']]\n",
    "        df = df.drop([df.columns[i] for i in [0,4,5,6,8,9,10]], axis=1)\n",
    "        df.columns = ['pid', 'semester', 'ast', 'reason like', 'reason dislike',\n",
    "                      'movie genres', 'theater vist', 'music genres', 'reaction time', \n",
    "                      'candy', 'favorite food', 'least favorite food']\n",
    "        df['pid'] = df['pid'].astype(int)\n",
    "        try:\n",
    "            df.iat[0, 5] = [df.iat[0, 5]]\n",
    "        except ValueError:\n",
    "            df.iat[0, 5] = np.nan\n",
    "        try:\n",
    "            df.iat[0, 7] = [df.iat[0, 7]]\n",
    "        except ValueError:\n",
    "            df.iat[0, 7] = np.nan\n",
    "        df['candy'] = df['candy'].astype(bool)\n",
    "    data = data.append(df)\n",
    "    \n",
    "def clean(row):\n",
    "    row['candy'] = True if str(row['candy']).lower() == 'yes' or str(row['candy']).lower() == 'True' else False\n",
    "    row['semester'] = 'Jan-June' if 'Jan-' in row['semester'] else 'July-Dec'\n",
    "    try:\n",
    "        for i in range(len(row['movie genres'])):\n",
    "            row['movie genres'][i] = \"Crime & Gangster\" if row['movie genres'][i] == 'Crime' else row['movie genres'][i]\n",
    "            row['movie genres'][i] = \"Comedy\" if row['movie genres'][i] == 'comedy' else row['movie genres'][i]\n",
    "    except TypeError:\n",
    "        return row\n",
    "    return row\n",
    "data = data.apply(clean, axis = 1)"
   ]
  },
  {
   "cell_type": "markdown",
   "metadata": {},
   "source": [
    "## Question 7\n",
    "\n",
    "Use appropriate statistical methods to answer the following questions.  Briefly explain your rationale for selecting the methods, state your conclusions and any limitations in a few sentences.\n",
    "\n",
    "(a) Do students born in the Fall-Winter term have different reaction times compared to Spring-Summer students?\n",
    "\n",
    "(b) Do students born in the Fall-Winter term have different movie preferences compared to Spring-Summer students?\n",
    "\n",
    "(c) Did students who ate a candy within 10min before the time reaction test perform better at the test?"
   ]
  },
  {
   "cell_type": "markdown",
   "metadata": {},
   "source": [
    "## Answers for Question 7\n",
    "(a) First we do a side by side box plot."
   ]
  },
  {
   "cell_type": "code",
   "execution_count": 136,
   "metadata": {},
   "outputs": [
    {
     "data": {
      "image/png": "[encoded data removed]",
      "text/plain": [
       "<Figure size 432x288 with 1 Axes>"
      ]
     },
     "metadata": {
      "needs_background": "light"
     },
     "output_type": "display_data"
    }
   ],
   "source": [
    "import seaborn as sns\n",
    "# get sample size and sample mean\n",
    "ax = sns.boxplot(x=\"semester\", y=\"reaction time\", data=data)\n",
    "ax.set_title(\"Side by side box plot of reaction time of students born in different semester\");"
   ]
  },
  {
   "cell_type": "markdown",
   "metadata": {},
   "source": [
    "I suspect that there is a difference in the reaction time from the box plots. I further do a randomization test. \n",
    "\n",
    "$H_0:$ the mean reaction time of students born in different semesters are equal\n",
    "\n",
    "$H_a:$ the mean reaction time of students born in different semesters are not equal"
   ]
  },
  {
   "cell_type": "code",
   "execution_count": 137,
   "metadata": {},
   "outputs": [
    {
     "name": "stdout",
     "output_type": "stream",
     "text": [
      "The two-sided p-value is: 0.0\n"
     ]
    }
   ],
   "source": [
    "from scipy.special import comb\n",
    "from itertools import combinations\n",
    "\n",
    "# get sample size and sample mean\n",
    "a = data.loc[data['semester']=='July-Dec']['reaction time']\n",
    "b = data.loc[data['semester']=='Jan-June']['reaction time']\n",
    "\n",
    "size = len(data)\n",
    "size_a = len(a)\n",
    "obsdiff = a.mean()- b.mean()\n",
    "\n",
    "\n",
    "# permutation\n",
    "a = np.arange(size).tolist()\n",
    "index = [i for i in combinations(a,5)]\n",
    "\n",
    "pooled = np.concatenate((a,b)) \n",
    "N = comb(size, size_a, exact = True)\n",
    "rand_dist = np.zeros(N) #numpy array to store values\n",
    "\n",
    "for i in range(N):\n",
    "    x1 = [pooled[j] for j in index[i]]\n",
    "    x2 = [pooled[j] for j in a if j not in index[i]]\n",
    "    d = np.mean(x1)-np.mean(x2)\n",
    "    rand_dist[i] = d\n",
    "\n",
    "# get p-value\n",
    "tbar = rand_dist.mean()\n",
    "p_value2 = (sum(np.absolute(rand_dist - tbar) >= \n",
    "                np.absolute(obsdiff - tbar))/N)\n",
    "print('The two-sided p-value is:', p_value2)"
   ]
  },
  {
   "cell_type": "markdown",
   "metadata": {},
   "source": [
    "Based on the obtained P-value (0.0), we can reject the null hypothesis. Therefore, there is some evidence suggesting that students born in the Fall-Winter term have different reaction times compared to Spring-Summer students."
   ]
  },
  {
   "cell_type": "markdown",
   "metadata": {},
   "source": [
    "(b) We will do a histogram to examine the distributions of the student's favorite movie genres. "
   ]
  },
  {
   "cell_type": "code",
   "execution_count": 138,
   "metadata": {},
   "outputs": [
    {
     "data": {
      "image/png": "[encoded data removed]",
      "text/plain": [
       "<Figure size 720x360 with 2 Axes>"
      ]
     },
     "metadata": {
      "needs_background": "light"
     },
     "output_type": "display_data"
    }
   ],
   "source": [
    "# get all genres\n",
    "allgenres = []\n",
    "for i in data['movie genres'].dropna():\n",
    "    allgenres += i\n",
    "allgenres = [i for i in set(allgenres)]\n",
    "fall = np.repeat(0, len(allgenres))\n",
    "winter = np.repeat(0, len(allgenres))\n",
    "for i in data.loc[data['semester']==\"July-Dec\"]['movie genres'].dropna():\n",
    "    for g in i:\n",
    "        fall[allgenres.index(g)] += 1\n",
    "for i in data.loc[data['semester']==\"Jan-June\"]['movie genres'].dropna():\n",
    "    for g in i:\n",
    "        winter[allgenres.index(g)] += 1\n",
    "fig, axs = plt.subplots(1,2, sharey=True, figsize=(10,5))\n",
    "fig.suptitle(\"Histogram of favorite genres of movies of student born in different semester\")\n",
    "axs[0].bar(allgenres, fall, alpha=0.5, color=\"orange\")\n",
    "axs[0].set_xticklabels(allgenres, rotation=90)\n",
    "axs[0].set_title(\"July-Dec\")\n",
    "axs[1].bar(allgenres, winter, alpha=0.5)\n",
    "axs[1].set_xticklabels(allgenres, rotation=90)\n",
    "axs[1].set_title(\"Jan-June\");"
   ]
  },
  {
   "cell_type": "markdown",
   "metadata": {},
   "source": [
    "Based on the histogram, we observe that the distribution for the two groups are quite different. Therefore,students born in the Fall-Winter term have different movie preferences compared to Spring-Summer students.\n",
    "\n",
    "This investigation is very limited since the sample size is too small, and there are many genres. There is a very high probability that the observed difference is just a coincidence. "
   ]
  },
  {
   "cell_type": "markdown",
   "metadata": {},
   "source": [
    "(c) I'll use two sample t-test. \n",
    "\n",
    "Null hypothesis: Students who ate a candy within 10 min before the test has the same mean reaction time to those who didn't.\n",
    "\n",
    "Alternative hypothesis: Students who ate a candy within 10 min before the test has a smaller mean reaction time to those who didn't.\n",
    "\n",
    "$H_0:\\mu_a=\\mu_b$ where $\\mu_a$ is the mean reaction time of students who ate candy, $\\mu_b$ is the mean reaction time of students who did not. \n",
    "\n",
    "$H_a: \\mu_a > \\mu_b$\n",
    "\n",
    "\n"
   ]
  },
  {
   "cell_type": "code",
   "execution_count": 139,
   "metadata": {},
   "outputs": [
    {
     "name": "stdout",
     "output_type": "stream",
     "text": [
      " The t-statistic is: -0.474 \n",
      " The P-value is: 0.322\n"
     ]
    }
   ],
   "source": [
    "from scipy import stats\n",
    "tstat, pvalue = stats.ttest_ind(data.loc[data['candy']]['reaction time'], data.loc[data['candy'] != True]['reaction time'])\n",
    "print(' The t-statistic is:', np.round(tstat,3), '\\n', 'The P-value is:', np.round(pvalue/2,3))"
   ]
  },
  {
   "cell_type": "markdown",
   "metadata": {},
   "source": [
    "By the result of two sample t-test, the p value is 0.322 > 0.05. We cannot reject the null hypothesis that students who ate a candy within 10 min before the test has the same mean reaction time to those who didn't. Therefore, we have no evidence that students who ate a candy within 10min before the time reaction test perform better at the test.\n",
    "\n",
    "Because the sample size is small, we cannot make sure that the samples are independent random samples from a normal distribution and has the same variance. Therefore, the test result is limited and may not be very significant. "
   ]
  }
 ],
 "metadata": {
  "hide_input": false,
  "kernelspec": {
   "display_name": "Python 3",
   "language": "python",
   "name": "python3"
  },
  "language_info": {
   "codemirror_mode": {
    "name": "ipython",
    "version": 3
   },
   "file_extension": ".py",
   "mimetype": "text/x-python",
   "name": "python",
   "nbconvert_exporter": "python",
   "pygments_lexer": "ipython3",
   "version": "3.6.8"
  }
 },
 "nbformat": 4,
 "nbformat_minor": 2
}
