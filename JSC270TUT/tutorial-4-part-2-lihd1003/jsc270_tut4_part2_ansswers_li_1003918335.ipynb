{
 "cells": [
  {
   "cell_type": "markdown",
   "metadata": {},
   "source": [
    "# JSC270S - Tutorial \\#4 - Part 2: Statistical Inference\n",
    "\n",
    "## Profs. F. Chevalier and N. Taback\n",
    "\n",
    "\n",
    "## Due date: Sunday February 17, 2019. 11:59pm.\n",
    "\n",
    "\n",
    "****\n",
    "## Instructions\n",
    "\n",
    "- This Part 2 of Tutorial #4 is individual.\n",
    "- Answer the questions below.\n",
    "\n",
    "### What should be submitted?\n",
    "\n",
    "- A *Jupyter notebook* using Python that contains all the data analyses. Make sure to comment your code in the code cells.\n",
    "\n",
    "- Additional files that your notebook requires to compile properly (e.g. a data file).\n",
    "\n",
    "- A pdf of your Jupyter notebook exported as a pdf file.  This can be done using [`nbconvert`](https://nbconvert.readthedocs.io/en/latest/install.html).\n",
    "\n",
    "\n",
    "### When should it be submitted?\n",
    "\n",
    "- Upload your answers by 11:59pm on Sunday February 17, 2019. \n",
    "\n",
    "\n",
    "### Where should the assignment be submitted?\n",
    "\n",
    "Push your finished notebook and any other files to <https://classroom.github.com/a/T9jzDN-r>\n",
    "\n",
    "Upload the pdf of your answer notebook to the JSC270 course page on Quercus.\n",
    "\n",
    "***\n",
    "\n",
    "## Tutorial Grading\n",
    "\n",
    "Tutorials will be graded according to the following marking scheme.\n",
    "\n",
    "<table>\n",
    "  <tr>\n",
    "    <th></th>\n",
    "    <th>Marks</th>\n",
    "  </tr>\n",
    "  <tr>\n",
    "    <td>Tutorial Participation</td>\n",
    "    <td>5</td>\n",
    "  </tr>\n",
    "  <tr>\n",
    "    <td>Attendance for entire tutorial</td>\n",
    "    <td>5</td>\n",
    "  </tr>\n",
    "  <tr>\n",
    "    <td>In-lab tutorial assignment</td>\n",
    "    <td>20</td>\n",
    "  </tr>\n",
    "  <tr>\n",
    "    <td>Tutorial assignment completion</td>\n",
    "    <td>20</td>\n",
    "  </tr>\n",
    "</table>\n"
   ]
  },
  {
   "cell_type": "markdown",
   "metadata": {},
   "source": [
    "# Question 1\n",
    "\n",
    "Use the influenza data from tutorial 2 to answer the following questions.\n",
    "\n",
    "Is the proportion of influenza cases in Manitoba different compared to New Bruswick?\n",
    "\n",
    "(a) Conduct a permutation test to evaluate this question. What are the assumptions behind this test? What is the p-value?  What do you conclude?"
   ]
  },
  {
   "cell_type": "markdown",
   "metadata": {},
   "source": [
    "## Answers for Question 1\n",
    "a) \n",
    "\n",
    "Assumptions: the two test groups are independent.\n",
    "\n",
    "Null hypothesis: There is no difference between the mean proportion of influenza cases between Manitoba and New Bruswick. \n",
    "$P_{MB} = P_{NB}$ where $P_{MB}$ is the proportion of influenza cases of Manitoba and $P_{NB}$ is the proportion of influenza cases of New Bruswick. \n",
    "\n",
    "Alternative hypothesis: $P_{MB}\\geq P_{NB}$\n",
    "\n",
    "p-value: 0.855\n",
    "\n",
    "Conclusion: we cannot reject the null hypothesis, there is some evidence that there is no difference between the mean proportion of influenza cases between Manitoba and New Bruswick. "
   ]
  },
  {
   "cell_type": "code",
   "execution_count": 2,
   "metadata": {
    "code_folding": [],
    "scrolled": false
   },
   "outputs": [],
   "source": [
    "# import data\n",
    "\n",
    "import pandas as pd\n",
    "webpage = 'https://www.canada.ca/en/public-health/services/surveillance/respiratory-virus-detections-canada/2018-2019/respiratory-virus-detections-isolations-week-01-ending-january-5-2019.html'\n",
    "\n",
    "df = pd.read_html(webpage) # returns a list of tables \n",
    "df[1] # by inspection we see that Table 2 is the first table\n",
    "\n",
    " # select. rows corresponding to prov and territory\n",
    "fludat = df[1].iloc[[0, 1, 2, 3, 11, 28, 29, 32, 33, 35, 36, 37, 38]]\n",
    "url = 'https://en.wikipedia.org/wiki/List_of_regions_of_Canada#National_regions'\n",
    "df = pd.read_html(url, header=0, attrs = {\"class\":\"wikitable\"})\n",
    "Regions = df[0][['All provinces and territories', 'Six-region model[1]']]\n",
    "\n",
    "Regions = (Regions\n",
    "           # propogate non-null values forward\n",
    "           .fillna(method = 'ffill', axis = 0) \n",
    "           # rename columns\n",
    "           .rename(columns={\"All provinces and territories\": \"prov\", \n",
    "                            \"Six-region model[1]\": \"region\"})\n",
    "           .replace(['Newfoundland and Labrador'], ['Newfoundland']))  \n",
    "\n",
    "# Change province names so they match in both data sets\n",
    "\n",
    "fludat = (fludat\n",
    "          .replace('Province of', '', regex = True)\n",
    "          .replace('Québec', 'Quebec', regex = True)\n",
    "          .rename(columns={\"Reporting Laboratory\": \"prov\"}))\n",
    "\n",
    "#Alberta, Ontario, Quebec, Sask have extra white space in their names so remove\n",
    "\n",
    "fludat['prov'] = fludat['prov'].str.strip()\n",
    "\n",
    "# Merge regions with flu data and only keep required columns\n",
    "\n",
    "fludat1 = pd.merge(fludat, Regions, on = 'prov').iloc[0:,[0,1,2,3,4,5,23]]\n",
    "fludat1.iloc[:, 1:6] = fludat1.iloc[:, 1:6].astype(int)\n",
    "\n",
    "# create Proportion of Flu A Positive (defined as the ratio of \n",
    "# Total Flu A Positive to Flu Tested)\n",
    "\n",
    "fludat1['propfluA'] = (fludat1\n",
    "                       .apply(lambda x: x['Total Flu A Positive']/x['Flu Tested'],axis=1))\n",
    "\n",
    "fludat2 = fludat1[[list(fludat1)[0],list(fludat1)[1], list(fludat1)[5], list(fludat1)[6],list(fludat1)[7] ]]"
   ]
  },
  {
   "cell_type": "code",
   "execution_count": 3,
   "metadata": {
    "code_folding": []
   },
   "outputs": [
    {
     "name": "stdout",
     "output_type": "stream",
     "text": [
      "The p-value is:  0.0\n"
     ]
    }
   ],
   "source": [
    "# perform the test\n",
    "import numpy as np\n",
    "import matplotlib.pyplot as plt\n",
    "\n",
    "# conduct permutation\n",
    "MB_tested = int(fludat2.at[6, 'Flu Tested'])\n",
    "MB_case = int(fludat2.at[6, 'Total Flu A Positive'])\n",
    "NB_tested = int(fludat2.at[3, 'Flu Tested'])\n",
    "NB_case = int(fludat2.at[3, 'Total Flu A Positive'])\n",
    "MB_cases = np.concatenate((np.repeat(1, MB_case), np.repeat(0, MB_tested-MB_case)))\n",
    "NB_cases = np.concatenate((np.repeat(1, NB_case), np.repeat(0, NB_tested-NB_case)))\n",
    "cases = np.concatenate((NB_cases, MB_cases))\n",
    "provl = np.concatenate((np.repeat('NB',NB_tested),np.repeat('MB',MB_tested)))\n",
    "\n",
    "def prop_perm_test(data):\n",
    "    np.random.shuffle(data)\n",
    "    return data[provl=='MB'].mean() - data[provl=='NB'].mean()\n",
    "\n",
    "diff = MB_case/MB_tested - NB_case/NB_tested\n",
    "N = 10000\n",
    "null_dist = [prop_perm_test(cases) for x in range(N)] \n",
    "\n",
    "plt.hist(null_dist,edgecolor = 'black', bins = 20, color = '#e9a3c9')\n",
    "plt.xlabel('Difference in Proportions')\n",
    "plt.title('Randomization Distribution of Proportion Differences');\n",
    "plt.axvline(x = diff, color = '#a1d76a', linewidth = 4)\n",
    "p_value = (sum([i <= diff for i in null_dist]) + 1) / (N + 1)\n",
    "print(\"The p-value is: \", np.round(p_value,3))"
   ]
  },
  {
   "cell_type": "markdown",
   "metadata": {},
   "source": [
    "(b) Conduct a Z-test to evaluate this question.  What are the assumptions behind this test? What is the p-value?  What do you conclude?"
   ]
  },
  {
   "cell_type": "markdown",
   "metadata": {},
   "source": [
    "b)\n",
    "\n",
    "Assumptions: for both groups, the proportion of the province follows Normal distribution.\n",
    "\n",
    "Null hypothesis: There is no difference between the mean proportion of influenza cases between Manitoba and New Bruswick. \n",
    "$P_{MB} = P_{NB}$ where $P_{MB}$ is the proportion of influenza cases of Manitoba and $P_{NB}$ is the proportion of influenza cases of New Bruswick. \n",
    "\n",
    "Alternative hypothesis: $P_{MB}\\geq P_{NB}$\n",
    "\n",
    "p-value: 0.839\n",
    "\n",
    "Conclusion: we cannot reject the null hypothesis, there is some evidence that there is no difference between the mean proportion of influenza cases between Manitoba and New Bruswick. \n",
    "\n"
   ]
  },
  {
   "cell_type": "code",
   "execution_count": 4,
   "metadata": {},
   "outputs": [
    {
     "data": {
      "text/plain": [
       "(-5.102127811541359, 0.0)"
      ]
     },
     "execution_count": 4,
     "metadata": {},
     "output_type": "execute_result"
    }
   ],
   "source": [
    "# Answer for Question 1b) \n",
    "from statsmodels.stats.proportion import proportions_ztest\n",
    "\n",
    "nobs = np.array([MB_tested, NB_tested])\n",
    "count = np.array([MB_case, NB_case])\n",
    "\n",
    "obsZ, pval = proportions_ztest(count, nobs, alternative=\"smaller\")\n",
    "obsZ, np.around(pval, 4)"
   ]
  },
  {
   "cell_type": "markdown",
   "metadata": {},
   "source": [
    "# Question 2\n",
    "\n",
    "In class 5 we discussed this example.\n",
    "\n",
    "$$\\begin{align*}\n",
    "H_0 &: \\text{region and and subtype of influenza are independent,} \\\\ \n",
    "H_a &: \\text{region and subtype of influenza are dependent}.\n",
    "\\end{align*}$$\n",
    "\n",
    "\n",
    "(a) Write a Python program to calculate the permutation distribution to test of independence of region and subtype of influenza. Create an appropriate vizualization of this distribution."
   ]
  },
  {
   "cell_type": "code",
   "execution_count": 5,
   "metadata": {},
   "outputs": [],
   "source": [
    "# answer for Q2a\n",
    "fludat1.iloc[:, 1:6] = fludat1.iloc[:, 1:6].astype(int)\n",
    "region_df = fludat1.iloc[:,[2,3,4,6]].groupby('region').sum()"
   ]
  },
  {
   "cell_type": "code",
   "execution_count": 6,
   "metadata": {},
   "outputs": [
    {
     "data": {
      "text/html": [
       "<div>\n",
       "<style scoped>\n",
       "    .dataframe tbody tr th:only-of-type {\n",
       "        vertical-align: middle;\n",
       "    }\n",
       "\n",
       "    .dataframe tbody tr th {\n",
       "        vertical-align: top;\n",
       "    }\n",
       "\n",
       "    .dataframe thead th {\n",
       "        text-align: right;\n",
       "    }\n",
       "</style>\n",
       "<table border=\"1\" class=\"dataframe\">\n",
       "  <thead>\n",
       "    <tr style=\"text-align: right;\">\n",
       "      <th></th>\n",
       "      <th>A(H1N1)pdm09 Positive</th>\n",
       "      <th>A(H3) Positive</th>\n",
       "      <th>A(UnS) Positive</th>\n",
       "    </tr>\n",
       "    <tr>\n",
       "      <th>region</th>\n",
       "      <th></th>\n",
       "      <th></th>\n",
       "      <th></th>\n",
       "    </tr>\n",
       "  </thead>\n",
       "  <tbody>\n",
       "    <tr>\n",
       "      <th>Atlantic</th>\n",
       "      <td>81</td>\n",
       "      <td>1</td>\n",
       "      <td>880</td>\n",
       "    </tr>\n",
       "    <tr>\n",
       "      <th>British Columbia</th>\n",
       "      <td>1010</td>\n",
       "      <td>75</td>\n",
       "      <td>755</td>\n",
       "    </tr>\n",
       "    <tr>\n",
       "      <th>Ontario</th>\n",
       "      <td>752</td>\n",
       "      <td>180</td>\n",
       "      <td>546</td>\n",
       "    </tr>\n",
       "    <tr>\n",
       "      <th>Prairies</th>\n",
       "      <td>4604</td>\n",
       "      <td>136</td>\n",
       "      <td>2775</td>\n",
       "    </tr>\n",
       "    <tr>\n",
       "      <th>Quebec</th>\n",
       "      <td>0</td>\n",
       "      <td>0</td>\n",
       "      <td>5974</td>\n",
       "    </tr>\n",
       "    <tr>\n",
       "      <th>Territories</th>\n",
       "      <td>162</td>\n",
       "      <td>3</td>\n",
       "      <td>6</td>\n",
       "    </tr>\n",
       "  </tbody>\n",
       "</table>\n",
       "</div>"
      ],
      "text/plain": [
       "                  A(H1N1)pdm09 Positive  A(H3) Positive  A(UnS) Positive\n",
       "region                                                                  \n",
       "Atlantic                             81               1              880\n",
       "British Columbia                   1010              75              755\n",
       "Ontario                             752             180              546\n",
       "Prairies                           4604             136             2775\n",
       "Quebec                                0               0             5974\n",
       "Territories                         162               3                6"
      ]
     },
     "execution_count": 6,
     "metadata": {},
     "output_type": "execute_result"
    }
   ],
   "source": [
    "region_df"
   ]
  },
  {
   "cell_type": "code",
   "execution_count": 7,
   "metadata": {},
   "outputs": [],
   "source": [
    "from scipy.stats.contingency import expected_freq\n",
    "expect = expected_freq(region_df.iloc[:,[0,1,2]])\n",
    "# the summand for each cell\n",
    "sum_i = (pow((np.array(region_df.iloc[:,[0,1,2]]) - expect),2)/\n",
    "         expect)\n",
    "#sum over cells\n",
    "obs_chisq = np.sum(sum_i)"
   ]
  },
  {
   "cell_type": "code",
   "execution_count": 8,
   "metadata": {},
   "outputs": [
    {
     "data": {
      "image/png": "[encoded data removed]",
      "text/plain": [
       "<Figure size 432x288 with 1 Axes>"
      ]
     },
     "metadata": {
      "needs_background": "light"
     },
     "output_type": "display_data"
    }
   ],
   "source": [
    "cases = []\n",
    "region = []\n",
    "regions = list(region_df.index)\n",
    "for r in regions:\n",
    "    cases += list(np.repeat(0, int(region_df.at[r, \"A(H1N1)pdm09 Positive\"])))\n",
    "    cases += list(np.repeat(1, int(region_df.at[r, \"A(H3) Positive\"])))\n",
    "    cases += list(np.repeat(2, int(region_df.at[r, \"A(UnS) Positive\"])))\n",
    "    region += list(np.repeat(r, int(region_df.at[r, \"A(H1N1)pdm09 Positive\"]) + \n",
    "                                 int(region_df.at[r, \"A(H3) Positive\"]) + \n",
    "                                 int(region_df.at[r, \"A(UnS) Positive\"])))\n",
    "cases = np.array(cases)\n",
    "region = np.array(region)\n",
    "\n",
    "def perm(cases):\n",
    "    l = np.empty([len(regions),3])\n",
    "    np.random.shuffle(cases)\n",
    "    for i in range(len(regions)):\n",
    "        l[i][0] = sum(cases[region == regions[i]] == 0)\n",
    "        l[i][1] = sum(cases[region == regions[i]] == 1)\n",
    "        l[i][2] = sum(cases[region == regions[i]] == 2)\n",
    "    sum_i = (pow(l - expect, 2)/ expect)\n",
    "    return np.sum(sum_i)\n",
    "\n",
    "N = 500\n",
    "\n",
    "permdist = [perm(cases) for x in range(N)] \n",
    "\n",
    "plt.hist(permdist,edgecolor = 'black', bins = 20, color = '#e9a3c9')\n",
    "plt.xlabel('Chi-square Statistic')\n",
    "plt.title('Permutation Distribution of Region and Influenza Test of Independence');"
   ]
  },
  {
   "cell_type": "markdown",
   "metadata": {},
   "source": [
    "(b) Use the permutation distribution in (a) calculate the p-value of the test."
   ]
  },
  {
   "cell_type": "code",
   "execution_count": 9,
   "metadata": {},
   "outputs": [
    {
     "name": "stdout",
     "output_type": "stream",
     "text": [
      "The observed value of the chi-square statistic is 7585.0\n",
      "The p-value is:  0.0\n"
     ]
    }
   ],
   "source": [
    "# answer for Q2b\n",
    "print('The observed value of the chi-square statistic is', np.round(obs_chisq))\n",
    "print('The p-value is: ', sum(np.array(permdist) >= obs_chisq)/N)"
   ]
  },
  {
   "cell_type": "markdown",
   "metadata": {},
   "source": [
    "(c) What can you conclude about region and subtype of influenza based on the results in part (b)?  "
   ]
  },
  {
   "cell_type": "markdown",
   "metadata": {},
   "source": [
    "### Answer for Q2c\n",
    "\n",
    "- We can reject the null hypothesis that region and subtype of influenza are independent. Therefore, there is strong evidence that regions and subtype of influenza are dependent. "
   ]
  },
  {
   "cell_type": "markdown",
   "metadata": {},
   "source": [
    "# Question 3\n",
    "\n",
    "This question involves investigating type I and II error rates for testing two proportions.  \n",
    "\n",
    "(a) Explain how to simulate the type I error rate for a Z-test of two proportions."
   ]
  },
  {
   "cell_type": "markdown",
   "metadata": {},
   "source": [
    "### Answer for Q3a\n",
    "\n",
    "- We can randomly generate two sample groups from the same distribution and do Z-test on the proportion of success and find the p-value. Repeatedly do so $n$ times. Say we reject the null hypothesis (when $p\\leq \\alpha$) $m$ times, then the type I error rate is $m/n$."
   ]
  },
  {
   "cell_type": "markdown",
   "metadata": {},
   "source": [
    "(b) Write a program in Python to simulate the type I error rate of the Z-test for two proportions.  What is your type I error rate for your simulation?  Assume the sample size in each group is 200 and $\\alpha=0.05$."
   ]
  },
  {
   "cell_type": "code",
   "execution_count": 10,
   "metadata": {},
   "outputs": [
    {
     "name": "stdout",
     "output_type": "stream",
     "text": [
      "The type I error rate of the Z-test is:  0.048\n"
     ]
    }
   ],
   "source": [
    "# code for Q3a\n",
    "sample_size = 200\n",
    "level = 0.05\n",
    "\n",
    "N = 1000\n",
    "count = 0\n",
    "for i in range(N):\n",
    "    z, p = proportions_ztest([np.random.binomial(sample_size, 0.4), \n",
    "                              np.random.binomial(sample_size, 0.4)], \n",
    "                             [200, 200])\n",
    "    count += 1 if p < level else 0\n",
    "print(\"The type I error rate of the Z-test is: \", count/N)"
   ]
  },
  {
   "cell_type": "markdown",
   "metadata": {},
   "source": [
    "(c) Explain how to simulate the power for testing two proportions."
   ]
  },
  {
   "cell_type": "markdown",
   "metadata": {},
   "source": [
    "### Answer for Q3c\n",
    "\n",
    "- We can randomly generate two sample groups from distributions of different parameters and do Z-test on the proportion of success for $n$ times. Say we accept the null hypothesis $m$ times, then the power is $1-m/n$"
   ]
  },
  {
   "cell_type": "markdown",
   "metadata": {},
   "source": [
    "(d) Write a program in Python to simulate the power of the Z-test for two proportions.  What is the power and type II error rate for your simulation?  Assume the sample size in each group is 200, $\\alpha=0.05$, and the true proportion in one group is 0.45 and the true proportion in the other group is 0.57."
   ]
  },
  {
   "cell_type": "code",
   "execution_count": 11,
   "metadata": {},
   "outputs": [
    {
     "name": "stdout",
     "output_type": "stream",
     "text": [
      "The power is:  0.6579999999999999\n",
      "The type II error rate is:  0.342\n"
     ]
    }
   ],
   "source": [
    "# code for Q3d\n",
    "N = 1000\n",
    "count = 0\n",
    "for i in range(N):\n",
    "    z, p = proportions_ztest([np.random.binomial(sample_size, 0.45), \n",
    "                              np.random.binomial(sample_size, 0.57)], \n",
    "                             [200, 200])\n",
    "    count += 1 if p >= level else 0\n",
    "print(\"The power is: \", 1- count/N)\n",
    "print(\"The type II error rate is: \", count/N)"
   ]
  },
  {
   "cell_type": "markdown",
   "metadata": {},
   "source": [
    "# Question 4\n",
    "\n",
    "Let $X$ be the number of purchases from and $n$ the number of visitors to the website.  The website owner is testing two versions of a web page on her site.  In a one-week period: 1874 visitors were randomized to page A, and 52 visitors made a purchase; and 1871 visitors were randomized to page B and 55 made a purchase. \n",
    "\n",
    "\n",
    "(a) Assume that the probability of a purchase is uniformly distributed.  Calculate the probability that the proportion of visitors to page B that make a purchase is greater than the proportion of visitors to page A.  Explain how you arrived at your answer."
   ]
  },
  {
   "cell_type": "code",
   "execution_count": 12,
   "metadata": {},
   "outputs": [
    {
     "name": "stdout",
     "output_type": "stream",
     "text": [
      "The probability that visitors to page B that make a purchase is greater than the proportion of visitors to page A is\n",
      " 0.61692\n"
     ]
    },
    {
     "data": {
      "image/png": "[encoded data removed]",
      "text/plain": [
       "<Figure size 432x288 with 1 Axes>"
      ]
     },
     "metadata": {
      "needs_background": "light"
     },
     "output_type": "display_data"
    }
   ],
   "source": [
    "# Codefor Q4a\n",
    "import scipy as sp\n",
    "\n",
    "N = 100000\n",
    "# group A\n",
    "post_dist_A = sp.stats.beta.rvs(52+1,1874+1-52,size=N)\n",
    "plt.hist(post_dist_A, edgecolor = 'black', bins = 20, color = 'green', density = True, alpha=0.5)\n",
    "\n",
    "# group B\n",
    "post_dist_B = sp.stats.beta.rvs(55+1,1871+1-55,size=N)\n",
    "plt.hist(post_dist_B, edgecolor = 'white', bins = 20, color = 'orange', density = True, alpha=0.5)\n",
    "plt.legend(['page A','page B'])\n",
    "plt.title(\"Posterior distribution of the proportion of purchase\")\n",
    "plt.xlabel(\"Proportion of purchase\");\n",
    "\n",
    "# find probability\n",
    "print(\"The probability that visitors to page B that make a purchase is greater than the proportion of visitors to page A is\\n\",\n",
    "      sum([post_dist_A[i] < post_dist_B[i] for i in range(N)])/N)"
   ]
  },
  {
   "cell_type": "markdown",
   "metadata": {},
   "source": [
    "### Answer for Q4a\n",
    "\n",
    "- By the assumption that the probability of a purchase is uniformly distributed, we can calculate the posterior distribution from the observation. Therefore, we can randomly generate two distributions of the proportion of purchase and find the probability that visitors to page B that make a purchase is greater than the proportion of visitors to page A by generating random samples from the distribution and compare whether the proportion of page A is greater than that of page A."
   ]
  },
  {
   "cell_type": "markdown",
   "metadata": {},
   "source": [
    "(b) Compare your result in (a) to a statistical hypothesis test.  Which test is more informative? Briefly explain.  "
   ]
  },
  {
   "cell_type": "code",
   "execution_count": 13,
   "metadata": {},
   "outputs": [
    {
     "name": "stdout",
     "output_type": "stream",
     "text": [
      "Test statistic:  -0.30266243745757404\n",
      "p-value:  0.38107356322060243\n",
      "power:  0.6189264367793976\n"
     ]
    }
   ],
   "source": [
    "# Answer for Q4b\n",
    "count = np.array([52, 55])\n",
    "nobs = np.array([1874, 1871])\n",
    "stat, pval = proportions_ztest(count, nobs, alternative=\"smaller\")\n",
    "print(\"Test statistic: \", stat)\n",
    "print(\"p-value: \", pval)\n",
    "print(\"power: \", 1-pval)"
   ]
  },
  {
   "cell_type": "markdown",
   "metadata": {},
   "source": [
    "### Answer for Q4b\n",
    "\n",
    "- Notice that the probability obtained in a) is the same to the power obtained in b). Therefore, they gives the similar information."
   ]
  }
 ],
 "metadata": {
  "hide_input": false,
  "kernelspec": {
   "display_name": "Python 3",
   "language": "python",
   "name": "python3"
  },
  "language_info": {
   "codemirror_mode": {
    "name": "ipython",
    "version": 3
   },
   "file_extension": ".py",
   "mimetype": "text/x-python",
   "name": "python",
   "nbconvert_exporter": "python",
   "pygments_lexer": "ipython3",
   "version": "3.6.8"
  }
 },
 "nbformat": 4,
 "nbformat_minor": 2
}
