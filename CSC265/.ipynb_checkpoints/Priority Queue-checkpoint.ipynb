{
 "cells": [
  {
   "attachments": {},
   "cell_type": "markdown",
   "metadata": {},
   "source": [
    "## Abstract Data Type: Priority Queue\n",
    "**Object** set(multiset) $S$ of elements with keys <br>\n",
    "**Operations**\n",
    " - max() returns the elements of $S$ with the largest key\n",
    " - extract_max() returns the element of $S$ with the largest key and removes it from $S$\n",
    " - insert(x) add $x$ ($x$ has a key) to $S$\n",
    " \n",
    "### Data Structure\n",
    "<table>\n",
    "  <tr>\n",
    "    <th>data structure</th>\n",
    "    <th>insert</th>\n",
    "    <th>extract_max</th>\n",
    "  </tr>\n",
    "  <tr>\n",
    "    <td>unsorted linkedlist</td>\n",
    "    <td>1</td>\n",
    "    <td>n</td>\n",
    "  </tr>\n",
    "  <tr>\n",
    "    <td>sorted linkedlist</td>\n",
    "    <td>n</td>\n",
    "    <td>1</td>\n",
    "  </tr>\n",
    "  <tr>\n",
    "    <td>heap</td>\n",
    "    <td>log n</td>\n",
    "    <td>log n</td>\n",
    "  </tr>\n",
    "</table>\n",
    "\n",
    "#### Max Heap\n",
    "**Complete binary tree** every level is full except possibly the last one where all nodes are fully to the left. <br>\n",
    "**level** #edges on the path to the root (root = level 0)<br>\n",
    "- For a tree of height $h$, it has $2^h \\leq n \\leq 2^{h+1} - 1$ nodes. <br>\n",
    "- Note that in the actual implementation, the complete binary tree is stored in an array, with the properties that \n",
    "$left(i) = 2i, right(i) = 2i+1, parent(i) = \\lfloor i/2 \\rfloor$\n",
    "\n",
    "**Properties**\n",
    " - The key of every node is at least the keys of its children\n",
    " - Stores data in a complete binary tree of size $n$\n",
    "\n",
    "**Implementation**\n",
    "- max() returns the root of the tree $\\in \\Theta(1)$\n",
    "- insert() put $x$ in the leftmost position of the last level (complete binary tree property), swap with its parent till it's larger than both of its children (max property) $\\in \\Theta \\log(n)$\n",
    "- extract_max() removes the root, move the leftmost leaf to the root. Swap with its larger child till it's larger than its children.$\\in\\Theta\\log(n)$ \n",
    "\n",
    "#### Heap Sort\n",
    "```python\n",
    "max_heapify(A, i)\n",
    "```"
   ]
  }
 ],
 "metadata": {
  "kernelspec": {
   "display_name": "Python 3",
   "language": "python",
   "name": "python3"
  },
  "language_info": {
   "codemirror_mode": {
    "name": "ipython",
    "version": 3
   },
   "file_extension": ".py",
   "mimetype": "text/x-python",
   "name": "python",
   "nbconvert_exporter": "python",
   "pygments_lexer": "ipython3",
   "version": "3.7.1"
  }
 },
 "nbformat": 4,
 "nbformat_minor": 2
}
